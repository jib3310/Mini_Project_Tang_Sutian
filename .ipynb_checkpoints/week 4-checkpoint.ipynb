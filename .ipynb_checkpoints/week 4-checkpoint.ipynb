{
 "cells": [
  {
   "cell_type": "markdown",
   "id": "be04033b",
   "metadata": {},
   "source": [
    "# Learning outcomes\n",
    "1. Overview of CV\n",
    "2. Revisitt some important concepts of images as Numpy array\n",
    "3. Cropping. Why? One of the data augmentation techniques in deep learning model development.\n",
    "4. Splitting and merging of color channels\n",
    "5. Mathematical operations\n",
    "6. image blending (add two images tgt)"
   ]
  },
  {
   "cell_type": "markdown",
   "id": "b38ac12f",
   "metadata": {},
   "source": [
    "## What is digital image processing / computer vision?\n",
    "As humans, we perceive the 3D structure of the world around us with ease. For example, looking at a framed group portrait, you can easily count and name all the people in the picture and even guess at their emotions from their facial expressions.\n",
    "\n",
    "Perceptual psychologists have spent decades trying to comprehend how visual system works and optical illusions have been discovered to solve the puzzle, a complete solution is still far beyond our reach.\n",
    "\n",
    "Computer vision / digital image processing is being utilized in diverse of real world applications:\n",
    "\n",
    "Optical character recognition (OCR): reading handwritten postal codes on letters and automatic plate recognition. OCR\n",
    "Medical imaging: registering pre-operative and intra-operative imagery or performing long term studies of internal organ. medical imaging\n",
    "Self-driving vehicles.\n",
    "Surveillance: monitoring for intruders, analyzing highway traffic and monitoring pools for drowning victims.\n",
    "Fingerprint recognition and biometrics: automatic access authentication as well as forensic applications.\n",
    "Consumer level applications include:\n",
    "\n",
    "Stitching: turning overlapping photos into a seamlessly stitched panorama. image stitching\n",
    "Morphing: turning a picture of your friend into another. blending\n",
    "Face detection: for improved camera focusing as well as more relevant image searching. face detection"
   ]
  },
  {
   "cell_type": "markdown",
   "id": "3fa459b3",
   "metadata": {},
   "source": [
    "## Setip (import Module)"
   ]
  },
  {
   "cell_type": "code",
   "execution_count": 1,
   "id": "7329c2c5",
   "metadata": {},
   "outputs": [],
   "source": [
    "import sys\n",
    "assert sys.version_info >=(3,7)\n",
    "import numpy as np\n",
    "import cv2 as cv\n",
    "from util_func import show_img\n",
    "import matplotlib.pyplot as plt"
   ]
  },
  {
   "cell_type": "markdown",
   "id": "89468d9d",
   "metadata": {},
   "source": [
    "## Image of Numpy array"
   ]
  },
  {
   "cell_type": "code",
   "execution_count": 2,
   "id": "e2464821",
   "metadata": {},
   "outputs": [
    {
     "name": "stdout",
     "output_type": "stream",
     "text": [
      "[[0 0 0 0]\n",
      " [0 0 0 0]]\n"
     ]
    }
   ],
   "source": [
    "img = np.zeros((2,4),dtype=np.uint8)\n",
    "print(img)"
   ]
  },
  {
   "cell_type": "markdown",
   "id": "cc3412f7",
   "metadata": {},
   "source": [
    "The above img variable belongs to grayscale imahe. Another primary type of image is **color image**."
   ]
  },
  {
   "cell_type": "code",
   "execution_count": 3,
   "id": "c4c47163",
   "metadata": {},
   "outputs": [
    {
     "name": "stdout",
     "output_type": "stream",
     "text": [
      "[[[0 0 0]\n",
      "  [0 0 0]\n",
      "  [0 0 0]\n",
      "  [0 0 0]]\n",
      "\n",
      " [[0 0 0]\n",
      "  [0 0 0]\n",
      "  [0 0 0]\n",
      "  [0 0 0]]]\n"
     ]
    }
   ],
   "source": [
    "img_color = cv.cvtColor(img,cv.COLOR_GRAY2BGR) ## (2,4,3)\n",
    "print(img_color)"
   ]
  },
  {
   "cell_type": "markdown",
   "id": "cd52fc6f",
   "metadata": {},
   "source": [
    "If wanna change element in array need to do indexing \n",
    "[0,**0**,0,0] [0,1]\n"
   ]
  },
  {
   "cell_type": "code",
   "execution_count": 4,
   "id": "e3a83be4",
   "metadata": {},
   "outputs": [
    {
     "name": "stdout",
     "output_type": "stream",
     "text": [
      "[[  0  50   0   0]\n",
      " [  0   0 100   0]]\n"
     ]
    }
   ],
   "source": [
    "img[0,1]=50\n",
    "img[1,2]=100\n",
    "print(img)"
   ]
  },
  {
   "cell_type": "code",
   "execution_count": 5,
   "id": "d5780f79",
   "metadata": {},
   "outputs": [
    {
     "name": "stdout",
     "output_type": "stream",
     "text": [
      "[[[  0   0   0]\n",
      "  [ 50  50  50]\n",
      "  [  0   0   0]\n",
      "  [  0   0   0]]\n",
      "\n",
      " [[  0   0   0]\n",
      "  [  0   0   0]\n",
      "  [100 100 100]\n",
      "  [  0   0   0]]]\n"
     ]
    }
   ],
   "source": [
    "img_color1 = cv.cvtColor(img,cv.COLOR_GRAY2BGR) #every value has been broadcasted\n",
    "print(img_color1)"
   ]
  },
  {
   "cell_type": "markdown",
   "id": "7ddb95b7",
   "metadata": {},
   "source": [
    "In RBG it only has three colour grey ,white and black (grayscale)"
   ]
  },
  {
   "cell_type": "markdown",
   "id": "e5b6bbad",
   "metadata": {},
   "source": [
    "## Access elements in an array"
   ]
  },
  {
   "cell_type": "code",
   "execution_count": 6,
   "id": "0109a50c",
   "metadata": {},
   "outputs": [
    {
     "data": {
      "text/plain": [
       "True"
      ]
     },
     "execution_count": 6,
     "metadata": {},
     "output_type": "execute_result"
    }
   ],
   "source": [
    "img = cv.imread(\"images/lena.jfif\")\n",
    "\n",
    "a= img[49,199,2]\n",
    "b = img.item(49,199,2)\n",
    "a == b"
   ]
  },
  {
   "cell_type": "code",
   "execution_count": 8,
   "id": "ae1e6aac",
   "metadata": {},
   "outputs": [
    {
     "name": "stdout",
     "output_type": "stream",
     "text": [
      "109 ns ± 1.55 ns per loop (mean ± std. dev. of 7 runs, 10,000,000 loops each)\n",
      "106 ns ± 0.702 ns per loop (mean ± std. dev. of 7 runs, 10,000,000 loops each)\n"
     ]
    }
   ],
   "source": [
    "%timeit a = img[49,199,2]\n",
    "%timeit b = img.item(49,199,2)\n"
   ]
  },
  {
   "cell_type": "markdown",
   "id": "7595e4ca",
   "metadata": {},
   "source": [
    "## Numpy array slicing"
   ]
  },
  {
   "cell_type": "code",
   "execution_count": 7,
   "id": "66fe5aef",
   "metadata": {},
   "outputs": [],
   "source": [
    "# extract the top left region of lena image\n",
    "show_img(\"lena\",img)"
   ]
  },
  {
   "cell_type": "code",
   "execution_count": 10,
   "id": "d3c0e74f",
   "metadata": {},
   "outputs": [
    {
     "name": "stdout",
     "output_type": "stream",
     "text": [
      "(225, 225, 3)\n"
     ]
    }
   ],
   "source": [
    "print(img.shape)"
   ]
  },
  {
   "cell_type": "code",
   "execution_count": 13,
   "id": "6eab0edc",
   "metadata": {},
   "outputs": [],
   "source": [
    "h,w = img.shape[:2]\n",
    "topleft = img[:h//2, :w//2] #floor division to make sure its integer\n",
    "show_img(\"topleft\",topleft)"
   ]
  },
  {
   "cell_type": "code",
   "execution_count": 14,
   "id": "e3b18407",
   "metadata": {},
   "outputs": [],
   "source": [
    "# extract central region of the img\n",
    "yc , xc = h//2 , w//2\n",
    "\n",
    "centre = img[yc-30:yc+30,xc-30:xc+30]\n",
    "show_img(\"centre\",centre)"
   ]
  },
  {
   "cell_type": "markdown",
   "id": "773a63f0",
   "metadata": {},
   "source": [
    "## Exercise"
   ]
  },
  {
   "cell_type": "code",
   "execution_count": 16,
   "id": "e93cf050",
   "metadata": {},
   "outputs": [],
   "source": [
    "white = np.zeros((200,200))+255\n",
    "white =np.uint8(white)\n",
    "show_img(\"white\",white)\n"
   ]
  },
  {
   "cell_type": "code",
   "execution_count": 17,
   "id": "a644872d",
   "metadata": {},
   "outputs": [],
   "source": [
    "# extract flower\n",
    "# img = cv.imread(\"images/flower.jfif\")\n",
    "# show_img(\"flower\",img)"
   ]
  },
  {
   "cell_type": "code",
   "execution_count": 4,
   "id": "9e356438",
   "metadata": {},
   "outputs": [
    {
     "data": {
      "text/plain": [
       "['EVENT_FLAG_ALTKEY',\n",
       " 'EVENT_FLAG_CTRLKEY',\n",
       " 'EVENT_FLAG_LBUTTON',\n",
       " 'EVENT_FLAG_MBUTTON',\n",
       " 'EVENT_FLAG_RBUTTON',\n",
       " 'EVENT_FLAG_SHIFTKEY',\n",
       " 'EVENT_LBUTTONDBLCLK',\n",
       " 'EVENT_LBUTTONDOWN',\n",
       " 'EVENT_LBUTTONUP',\n",
       " 'EVENT_MBUTTONDBLCLK',\n",
       " 'EVENT_MBUTTONDOWN',\n",
       " 'EVENT_MBUTTONUP',\n",
       " 'EVENT_MOUSEHWHEEL',\n",
       " 'EVENT_MOUSEMOVE',\n",
       " 'EVENT_MOUSEWHEEL',\n",
       " 'EVENT_RBUTTONDBLCLK',\n",
       " 'EVENT_RBUTTONDOWN',\n",
       " 'EVENT_RBUTTONUP']"
      ]
     },
     "execution_count": 4,
     "metadata": {},
     "output_type": "execute_result"
    }
   ],
   "source": [
    "[i for i in dir(cv) if i.startswith(\"EVENT\")]"
   ]
  },
  {
   "cell_type": "code",
   "execution_count": 2,
   "id": "93e75b2e",
   "metadata": {},
   "outputs": [
    {
     "name": "stdout",
     "output_type": "stream",
     "text": [
      "(42, 24)\n",
      "(169, 174)\n"
     ]
    }
   ],
   "source": [
    "#1 way collback function\n",
    "img = cv.imread(\"images/lena.jfif\")\n",
    "\n",
    "def rect_region(event,x,y,flags,params):\n",
    "    \"\"\"This is a mouclick callback function\"\"\"\n",
    "    if event == cv.EVENT_LBUTTONDOWN:\n",
    "        print((x,y))\n",
    "        cv.circle(img,(x,y),1,(0,0,255),-1)\n",
    "        cv.imshow(\"img\",img)\n",
    "cv.imshow(\"img\",img)\n",
    "cv.setMouseCallback(\"img\",rect_region)\n",
    "cv.waitKey(0)\n",
    "cv.destroyAllWindows()"
   ]
  },
  {
   "cell_type": "code",
   "execution_count": 3,
   "id": "837ec1fc",
   "metadata": {},
   "outputs": [],
   "source": [
    "lenaHead = img[42:169,24:174]\n",
    "\n",
    "show_img(\"lenaHead\",lenaHead)"
   ]
  },
  {
   "cell_type": "code",
   "execution_count": 4,
   "id": "d967a681",
   "metadata": {},
   "outputs": [],
   "source": [
    "#2 Bounding box\n",
    "img = cv.imread(\"images/dog.jfif\")\n",
    "bbox = cv.selectROI(\"img\",img)\n",
    "\n",
    "#(x,y,w,h)\n",
    "dog = img[int(bbox[1]):int(bbox[1]+bbox[3]),\n",
    "            int(bbox[0]):int(bbox[0]+bbox[2])]\n",
    "show_img(\"dog\",dog)"
   ]
  },
  {
   "cell_type": "code",
   "execution_count": null,
   "id": "fddce9ab",
   "metadata": {},
   "outputs": [],
   "source": [
    "#3 point opp"
   ]
  },
  {
   "cell_type": "code",
   "execution_count": 6,
   "id": "eaae4d89",
   "metadata": {},
   "outputs": [],
   "source": [
    "# geerate a repeating pattern\n",
    "img_arr = np.zeros((30,30),dtype=np.uint8)\n",
    "\n",
    "img_arr[:10,10:20]=255\n",
    "img_arr[10:20,:10]=255\n",
    "img_arr[10:20,20:]=255\n",
    "img_arr[20:,10:20]=255\n",
    "\n",
    "img  = np.tile(img_arr,(3,3))\n",
    "\n",
    "show_img(\"pattern\",img)"
   ]
  },
  {
   "cell_type": "markdown",
   "id": "4ad57b19",
   "metadata": {},
   "source": [
    "## Image cropping\n",
    "Why?\n",
    "- Remove unwanted objects from cropping\n",
    "- Rule of thirds. Seperate images into $3 \\times 3$ grids, and we place our camera in a way such that the object of interest is on the grid line or its intersection, the picture will look more appealing.\n",
    "- One of the data augmentation techniques"
   ]
  },
  {
   "cell_type": "code",
   "execution_count": 21,
   "id": "fcb138f7",
   "metadata": {},
   "outputs": [],
   "source": [
    "img = cv.imread(\"images/dog.jfif\")\n",
    "img_copy = img.copy()\n",
    "\n",
    "#parameter definition\n",
    "h, w = img.shape[:2]\n",
    "n_vertical_grids =4\n",
    "n_horizontal_grids = 4\n",
    "\n",
    "# we need to get the number of (pixels) for column and row\n",
    "M =int(h/ n_vertical_grids)\n",
    "N =int(w/n_horizontal_grids)\n",
    "\n",
    "\n",
    "tiles =[]\n",
    "for y in range(0,h,M):# h is h-1\n",
    "    for x in range(0,w,N):\n",
    "        x1 = x+ N\n",
    "        y1 = y+M\n",
    "        \n",
    "        if x1 > w and y1 > h:\n",
    "            x1 = w-1\n",
    "            y1 = h-1\n",
    "            cv.rectangle(img_copy,(x,y),(x1,y1),(0,255,0),1)\n",
    "            tile=img[y:h,x:w]\n",
    "            tiles.append(tile)\n",
    "            \n",
    "        elif y1 > h:\n",
    "            y1 = h-1\n",
    "            cv.rectangle(img_copy,(x,y),(x1,y1),(0,255,0),1)\n",
    "            tile=img[y:h,x:x1]\n",
    "            tiles.append(tile)\n",
    "        elif x1 > w:\n",
    "            x1 = w-1\n",
    "            cv.rectangle(img_copy,(x,y),(x1,y1),(0,255,0),1)\n",
    "            tile=img[y:y1,x:w]\n",
    "            tiles.append(tile)\n",
    "        else:\n",
    "            cv.rectangle(img_copy,(x,y),(x1,y1),(0,255,0),1)\n",
    "            tile=img[y:h,x:w]\n",
    "            tiles.append(tile)\n",
    "show_img(\"crop\",img_copy)"
   ]
  },
  {
   "cell_type": "code",
   "execution_count": 22,
   "id": "85db6aeb",
   "metadata": {},
   "outputs": [],
   "source": [
    "show_img(\"patch\",tiles[5])"
   ]
  },
  {
   "cell_type": "markdown",
   "id": "8ac15a4b",
   "metadata": {},
   "source": [
    "# Splitting and merging of color channels"
   ]
  },
  {
   "cell_type": "code",
   "execution_count": 8,
   "id": "595d16e4",
   "metadata": {},
   "outputs": [
    {
     "data": {
      "text/plain": [
       "True"
      ]
     },
     "execution_count": 8,
     "metadata": {},
     "output_type": "execute_result"
    }
   ],
   "source": [
    "img = cv.imread(\"images/lena.jfif\")\n",
    "\n",
    "b,g,r = cv.split(img)\n",
    "\n",
    "img_merge=cv.merge((b,g,r))\n",
    "\n",
    "np.array_equal(img,img_merge)"
   ]
  },
  {
   "cell_type": "code",
   "execution_count": 2,
   "id": "a0d746b5",
   "metadata": {},
   "outputs": [],
   "source": []
  },
  {
   "cell_type": "code",
   "execution_count": 10,
   "id": "ac27acb3",
   "metadata": {},
   "outputs": [
    {
     "data": {
      "image/png": "[encoded data removed]",
      "text/plain": [
       "<Figure size 864x288 with 3 Axes>"
      ]
     },
     "metadata": {},
     "output_type": "display_data"
    }
   ],
   "source": [
    "fig,(ax1,ax2,ax3)=plt.subplots(1,3,figsize=(12,4),sharey=True) # 1 row 3 column\n",
    "fig.suptitle(\"Different color channels\")\n",
    "\n",
    "ax1.imshow(b, cmap=plt.cm.gray)\n",
    "ax1.set(title = \"blue channel\",xticks=[],yticks=[])\n",
    "ax2.imshow(b, cmap=plt.cm.gray)\n",
    "ax2.set(title = \"green channel\",xticks=[],yticks=[])\n",
    "ax3.imshow(b, cmap=plt.cm.gray)\n",
    "ax3.set(title = \"red channel\",xticks=[],yticks=[])\n",
    "\n",
    "plt.tight_layout()\n",
    "plt.show()"
   ]
  },
  {
   "cell_type": "markdown",
   "id": "2624c3e6",
   "metadata": {},
   "source": [
    "### Exercise"
   ]
  },
  {
   "cell_type": "code",
   "execution_count": null,
   "id": "16f353a3",
   "metadata": {},
   "outputs": [],
   "source": [
    "### Apply color filter\n",
    "img=cv.imread(\"images/dog.jfif\")\n",
    "\n",
    "colors = (\"blue\",\"green\",\"red\")\n",
    "\n",
    "channels = cv.split(img)\n",
    "\n",
    "imgs =[]\n",
    "for i,ch in enumerate(channels):\n",
    "    img_arr = np.zeros_like(img)\n",
    "    img_arr[:,:,1]= ch\n",
    "    img.append(img_arr)\n",
    "    \n",
    "for img , c in zip( imgs,colors):\n",
    "    cv.imshow(c,img)\n",
    "\n",
    "cv.waitKey(0)\n",
    "cv.destroyAllWindows()"
   ]
  },
  {
   "cell_type": "markdown",
   "id": "730fd9ca",
   "metadata": {},
   "source": [
    "## Point operaters (mathematical operations)\n",
    "f(x) =alphaf(x)+ beta\n",
    "- if alpha>1 then enhance image content\n",
    "- if beta > 0 then increase brigthness\n",
    "- 0< alpha <0 then decrease img content\n",
    "- beta <0 decrease brigthness\n",
    "- bold x is vector not scalar\n",
    "\n",
    "$$ f_(trans)(\\textbf(x)) = \\alpha f(\\textbf(x)+\\beta $$"
   ]
  },
  {
   "cell_type": "code",
   "execution_count": 21,
   "id": "0ee4e173",
   "metadata": {},
   "outputs": [
    {
     "data": {
      "text/plain": [
       "array([254,   0, 255,  44], dtype=uint8)"
      ]
     },
     "execution_count": 21,
     "metadata": {},
     "output_type": "execute_result"
    }
   ],
   "source": [
    "np.uint8(np.array([-2,0,255,300]))"
   ]
  },
  {
   "cell_type": "code",
   "execution_count": 4,
   "id": "53d5d49e",
   "metadata": {},
   "outputs": [],
   "source": [
    "# Lets define the point operator function (multiplication, addition, subtraction and division)\n",
    "def point_op(img, alpha, beta):\n",
    "    \"\"\"Argument:\n",
    "    img: input image\n",
    "    alpha: coefficient\n",
    "    beta: bias\n",
    "    \"\"\"\n",
    "    img = img.astype(np.float32)\n",
    "    res = alpha * img + beta\n",
    "    # clip the pixel values \n",
    "    res = np.clip(res, 0, 255)\n",
    "    res = np.uint8(res)\n",
    "    \n",
    "    return res"
   ]
  },
  {
   "cell_type": "code",
   "execution_count": 5,
   "id": "a70fa8b8",
   "metadata": {},
   "outputs": [],
   "source": [
    "gray = cv.imread('images/dog.jfif',0)\n",
    "transform = point_op(gray, 2, 0)\n",
    "\n",
    "cv.imshow('original', gray)\n",
    "cv.imshow('transform', transform)\n",
    "cv.waitKey(0)\n",
    "cv.destroyAllWindows()"
   ]
  },
  {
   "cell_type": "code",
   "execution_count": 8,
   "id": "98fb7d20",
   "metadata": {},
   "outputs": [],
   "source": [
    "#darken it\n",
    "img = cv.imread('images/dog.jfif',0)\n",
    "transform2 = point_op(img,1,-80)\n",
    "\n",
    "cv.imshow(\"original\",img)\n",
    "show_img(\"transform2\",transform2)"
   ]
  },
  {
   "cell_type": "markdown",
   "id": "666c0cfe",
   "metadata": {},
   "source": [
    "## gamma correction\n",
    "- it will make it more realistic (camera)\n",
    "- purpose : brightness\n",
    "$$ O = (\\frac{I}{255}^(\\gamma) * 255$$"
   ]
  },
  {
   "cell_type": "code",
   "execution_count": 12,
   "id": "37c50c4d",
   "metadata": {},
   "outputs": [],
   "source": [
    "gamma = 1 / 2.2\n",
    "\n",
    "lookUpTable = np.empty((1, 256), dtype=np.uint8)\n",
    "for i in range(256):\n",
    "    lookUpTable[0, i] = np.clip(pow(i / 255.0, gamma) * 255.0, 0, 255)\n",
    "    \n",
    "img_ori = cv.imread(\"images/mountains_prop.jpg\")\n",
    "res = cv.LUT(img_ori, lookUpTable)\n",
    "\n",
    "cv.namedWindow(\"ori\", cv.WINDOW_NORMAL)\n",
    "# cv.namedWindow(\"results\", cv.WINDOW_NORMAL)\n",
    "cv.imshow(\"ori\", img_ori)\n",
    "show_img(\"results\", res, adjust=True)"
   ]
  },
  {
   "cell_type": "markdown",
   "id": "613d6d0d",
   "metadata": {},
   "source": [
    "## Image Blending (add 2 images tgt)\n",
    "get a sense of transparency\n",
    "\n",
    "$$ (\\textbf{x}) = \\alpha f(\\textbf{x}+(1- \\alpha)h(\\textbf{x}+\\beta)$$"
   ]
  },
  {
   "cell_type": "code",
   "execution_count": 13,
   "id": "27e20850",
   "metadata": {},
   "outputs": [],
   "source": [
    "img = cv.imread(\"images/lena.jfif\")\n",
    "\n",
    "img2 = cv.imread(\"images/coins.jfif\")\n",
    "\n",
    "#resizze img2\n",
    "alpha = 0.8\n",
    "h,w = img.shape[:2]\n",
    "img2 = cv.resize(img2,(w,h))\n",
    "\n",
    "#blending\n",
    "res = cv.addWeighted(img,alpha,img2,1-alpha,0) #beta set as 0\n",
    "\n",
    "cv.imshow(\"img1\",img)\n",
    "cv.imshow(\"img2\",img2)\n",
    "show_img(\"blending\",res)"
   ]
  },
  {
   "cell_type": "markdown",
   "id": "7ecd43bf",
   "metadata": {},
   "source": [
    "## Exercise\n"
   ]
  },
  {
   "cell_type": "code",
   "execution_count": 20,
   "id": "8a6d83d1",
   "metadata": {},
   "outputs": [],
   "source": [
    "#1.\n",
    "img = np.random.randint(0,256,(500,500,3),np.uint8)\n",
    "show_img(\"random noise color\",img)\n",
    "grayImg = cv.cvtColor(img,cv.COLOR_BGR2GRAY)\n",
    "show_img(\"random noise gray\",grayImg)"
   ]
  },
  {
   "cell_type": "code",
   "execution_count": 23,
   "id": "ba2ca053",
   "metadata": {},
   "outputs": [],
   "source": [
    "#2\n",
    "def crop_grid(img, num_horizontal_grid, num_vertical_grid, line_color):\n",
    "    img_copy = img.copy()\n",
    "    \n",
    "    h, w = img.shape[:2]\n",
    "    n_vertical_grids = num_vertical_grid\n",
    "    n_horizontal_grids = num_horizontal_grid\n",
    "    \n",
    "    # we need to get the number of (pixels) for column and row\n",
    "    M =int(h/ n_vertical_grids)\n",
    "    N =int(w/n_horizontal_grids)\n",
    "    \n",
    "    tiles =[]\n",
    "    for y in range(0,h,M):# h is h-1\n",
    "        for x in range(0,w,N):\n",
    "            x1 = x+ N\n",
    "            y1 = y+M\n",
    "        \n",
    "            if x1 > w and y1 > h:\n",
    "                x1 = w-1\n",
    "                y1 = h-1\n",
    "                cv.rectangle(img_copy,(x,y),(x1,y1),line_color,1)\n",
    "                tile=img[y:h,x:w]\n",
    "                tiles.append(tile)\n",
    "            \n",
    "            elif y1 > h:\n",
    "                y1 = h-1\n",
    "                cv.rectangle(img_copy,(x,y),(x1,y1),line_color,1)\n",
    "                tile=img[y:h,x:x1]\n",
    "                tiles.append(tile)\n",
    "            elif x1 > w:\n",
    "                x1 = w-1\n",
    "                cv.rectangle(img_copy,(x,y),(x1,y1),line_color,1)\n",
    "                tile=img[y:y1,x:w]\n",
    "                tiles.append(tile)\n",
    "            else:\n",
    "                cv.rectangle(img_copy,(x,y),(x1,y1),line_color,1)\n",
    "                tile=img[y:h,x:w]\n",
    "                tiles.append(tile)\n",
    "    show_img(\"Result\",img_copy)"
   ]
  },
  {
   "cell_type": "code",
   "execution_count": 25,
   "id": "c1abe6b4",
   "metadata": {},
   "outputs": [],
   "source": [
    "img = cv.imread(\"images/lena.jfif\")\n",
    "crop_grid(img,3,3,(0,255,0))"
   ]
  },
  {
   "cell_type": "code",
   "execution_count": 16,
   "id": "38dd0c14",
   "metadata": {},
   "outputs": [],
   "source": [
    "#3\n",
    "img1 = cv.imread(\"images/lena.jfif\")\n",
    "img2 = cv.imread(\"images/coins.jfif\")\n",
    "\n",
    "# reshape of image to make it same dimension\n",
    "new_shape = img1.shape[:2]\n",
    "img2 = cv.resize(img2, new_shape[::-1])\n",
    "\n",
    "\n",
    "# blending images with different alpha value\n",
    "for i in range(0, 101):\n",
    "    a = i / 100 # alpha value between  0 and 1\n",
    "    dst = cv.addWeighted(img1, a, img2, 1-a, 0)\n",
    "    cv.imshow(\"blending\", dst)\n",
    "    cv.waitKey(10) # transition each 20ms\n",
    "\n",
    "cv.waitKey(0)\n",
    "cv.destroyAllWindows()"
   ]
  },
  {
   "cell_type": "code",
   "execution_count": 9,
   "id": "359f993b",
   "metadata": {},
   "outputs": [],
   "source": [
    "#4\n",
    "\n",
    "def add_watermark(img, watermark, display_ratio):\n",
    "    \n",
    "    # resize the image base on the display_ratio\n",
    "    img_res = cv.resize(img, None, fx = display_ratio, fy = display_ratio)\n",
    "    \n",
    "    # determine the size of the watermark (0.1 to the size of the image)\n",
    "    wm_res_y = int(img_res.shape[0] * 0.1)\n",
    "    wm_ratio = wm_res_y / watermark.shape[0] \n",
    "    wm_res_x = int(watermark.shape[1] * wm_ratio)\n",
    "    \n",
    "    # resize using calculated y and x\n",
    "    wm_res = cv.resize(watermark, (wm_res_x, wm_res_y))\n",
    "    \n",
    "    # watermark exist at the bottom left corner\n",
    "    h, w, = img_res.shape[:2] # image height and weight\n",
    "    wm_h, wm_w = wm_res.shape[:2] # watermark height and weight\n",
    "    \n",
    "    # determine the watermark region (bottom left corner)\n",
    "    wm_region = img_res[h-wm_h:h, :wm_w]\n",
    "    \n",
    "    # add watermark to the region\n",
    "    blend = cv.addWeighted(wm_region, 0.75, wm_res, 0.25, 0)\n",
    "    img_res[h-wm_h:h, :wm_w] = blend # replace with blended image\n",
    "    \n",
    "    show_img(\"Watermarked Image\",img_res)"
   ]
  },
  {
   "cell_type": "code",
   "execution_count": 12,
   "id": "323231b1",
   "metadata": {},
   "outputs": [],
   "source": [
    "img = cv.imread('images/lena.jfif')\n",
    "watermark = cv.imread('images/dog.jfif')\n",
    "add_watermark(img,watermark,1)"
   ]
  },
  {
   "cell_type": "code",
   "execution_count": null,
   "id": "5e5d934b",
   "metadata": {},
   "outputs": [],
   "source": []
  }
 ],
 "metadata": {
  "kernelspec": {
   "display_name": "Python 3 (ipykernel)",
   "language": "python",
   "name": "python3"
  },
  "language_info": {
   "codemirror_mode": {
    "name": "ipython",
    "version": 3
   },
   "file_extension": ".py",
   "mimetype": "text/x-python",
   "name": "python",
   "nbconvert_exporter": "python",
   "pygments_lexer": "ipython3",
   "version": "3.10.5"
  }
 },
 "nbformat": 4,
 "nbformat_minor": 5
}
