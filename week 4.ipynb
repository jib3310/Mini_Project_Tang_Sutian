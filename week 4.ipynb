{
 "cells": [
  {
   "cell_type": "markdown",
   "id": "be04033b",
   "metadata": {},
   "source": [
    "# Learning outcomes\n",
    "1. Overview of CV\n",
    "2. Revisitt some important concepts of images as Numpy array\n",
    "3. Cropping. Why? One of the data augmentation techniques in deep learning model development.\n",
    "4. Splitting and merging of color channels\n",
    "5. Mathematical operations\n",
    "6. image blending (add two images tgt)"
   ]
  },
  {
   "cell_type": "markdown",
   "id": "3fa459b3",
   "metadata": {},
   "source": [
    "## Setip (import Module)"
   ]
  },
  {
   "cell_type": "code",
   "execution_count": 2,
   "id": "7329c2c5",
   "metadata": {},
   "outputs": [],
   "source": [
    "import sys\n",
    "assert sys.version_info >=(3,7)\n",
    "import numpy as np\n",
    "import cv2 as cv\n",
    "from util_func import show_img\n"
   ]
  },
  {
   "cell_type": "markdown",
   "id": "89468d9d",
   "metadata": {},
   "source": [
    "## Image of Numpy array"
   ]
  },
  {
   "cell_type": "code",
   "execution_count": 2,
   "id": "e2464821",
   "metadata": {},
   "outputs": [
    {
     "name": "stdout",
     "output_type": "stream",
     "text": [
      "[[0 0 0 0]\n",
      " [0 0 0 0]]\n"
     ]
    }
   ],
   "source": [
    "img = np.zeros((2,4),dtype=np.uint8)\n",
    "print(img)"
   ]
  },
  {
   "cell_type": "markdown",
   "id": "cc3412f7",
   "metadata": {},
   "source": [
    "The above img variable belongs to grayscale imahe. Another primary type of image is **color image**."
   ]
  },
  {
   "cell_type": "code",
   "execution_count": 3,
   "id": "c4c47163",
   "metadata": {},
   "outputs": [
    {
     "name": "stdout",
     "output_type": "stream",
     "text": [
      "[[[0 0 0]\n",
      "  [0 0 0]\n",
      "  [0 0 0]\n",
      "  [0 0 0]]\n",
      "\n",
      " [[0 0 0]\n",
      "  [0 0 0]\n",
      "  [0 0 0]\n",
      "  [0 0 0]]]\n"
     ]
    }
   ],
   "source": [
    "img_color = cv.cvtColor(img,cv.COLOR_GRAY2BGR) ## (2,4,3)\n",
    "print(img_color)"
   ]
  },
  {
   "cell_type": "markdown",
   "id": "cd52fc6f",
   "metadata": {},
   "source": [
    "If wanna change element in array need to do indexing \n",
    "[0,**0**,0,0] [0,1]\n"
   ]
  },
  {
   "cell_type": "code",
   "execution_count": 4,
   "id": "e3a83be4",
   "metadata": {},
   "outputs": [
    {
     "name": "stdout",
     "output_type": "stream",
     "text": [
      "[[  0  50   0   0]\n",
      " [  0   0 100   0]]\n"
     ]
    }
   ],
   "source": [
    "img[0,1]=50\n",
    "img[1,2]=100\n",
    "print(img)"
   ]
  },
  {
   "cell_type": "code",
   "execution_count": 5,
   "id": "d5780f79",
   "metadata": {},
   "outputs": [
    {
     "name": "stdout",
     "output_type": "stream",
     "text": [
      "[[[  0   0   0]\n",
      "  [ 50  50  50]\n",
      "  [  0   0   0]\n",
      "  [  0   0   0]]\n",
      "\n",
      " [[  0   0   0]\n",
      "  [  0   0   0]\n",
      "  [100 100 100]\n",
      "  [  0   0   0]]]\n"
     ]
    }
   ],
   "source": [
    "img_color1 = cv.cvtColor(img,cv.COLOR_GRAY2BGR) #every value has been broadcasted\n",
    "print(img_color1)"
   ]
  },
  {
   "cell_type": "markdown",
   "id": "7ddb95b7",
   "metadata": {},
   "source": [
    "In RBG it only has three colour grey ,white and black (grayscale)"
   ]
  },
  {
   "cell_type": "markdown",
   "id": "e5b6bbad",
   "metadata": {},
   "source": [
    "## Access elements in an array"
   ]
  },
  {
   "cell_type": "code",
   "execution_count": 6,
   "id": "0109a50c",
   "metadata": {},
   "outputs": [
    {
     "data": {
      "text/plain": [
       "True"
      ]
     },
     "execution_count": 6,
     "metadata": {},
     "output_type": "execute_result"
    }
   ],
   "source": [
    "img = cv.imread(\"images/lena.jfif\")\n",
    "\n",
    "a= img[49,199,2]\n",
    "b = img.item(49,199,2)\n",
    "a == b"
   ]
  },
  {
   "cell_type": "code",
   "execution_count": 8,
   "id": "ae1e6aac",
   "metadata": {},
   "outputs": [
    {
     "name": "stdout",
     "output_type": "stream",
     "text": [
      "109 ns ± 1.55 ns per loop (mean ± std. dev. of 7 runs, 10,000,000 loops each)\n",
      "106 ns ± 0.702 ns per loop (mean ± std. dev. of 7 runs, 10,000,000 loops each)\n"
     ]
    }
   ],
   "source": [
    "%timeit a = img[49,199,2]\n",
    "%timeit b = img.item(49,199,2)\n"
   ]
  },
  {
   "cell_type": "markdown",
   "id": "7595e4ca",
   "metadata": {},
   "source": [
    "## Numpy array slicing"
   ]
  },
  {
   "cell_type": "code",
   "execution_count": null,
   "id": "66fe5aef",
   "metadata": {},
   "outputs": [],
   "source": [
    "# extract the top left region of lena image\n",
    "show_img(\"lena\",img)"
   ]
  },
  {
   "cell_type": "code",
   "execution_count": null,
   "id": "6eab0edc",
   "metadata": {},
   "outputs": [],
   "source": [
    "h,w = img.shape[:2]\n",
    "topleft = img[:h//2, :w//2] #flow division to make sure its integer\n",
    "show_img(\"topleft\",topleft)"
   ]
  },
  {
   "cell_type": "code",
   "execution_count": null,
   "id": "e3b18407",
   "metadata": {},
   "outputs": [],
   "source": [
    "# extract central region of the img\n",
    "yc , xc = h//2 , w//2\n",
    "\n",
    "centre = img[yc-30:yc+30,xc-30:xc+30]\n",
    "show_img(\"centre\",centre)"
   ]
  },
  {
   "cell_type": "markdown",
   "id": "773a63f0",
   "metadata": {},
   "source": [
    "## Exercise"
   ]
  },
  {
   "cell_type": "code",
   "execution_count": null,
   "id": "e93cf050",
   "metadata": {},
   "outputs": [],
   "source": [
    "white = np.zeros((200,200))+25\n",
    "white =np.uint8(white)\n",
    "show_img(\"white\",white)\n"
   ]
  },
  {
   "cell_type": "code",
   "execution_count": 3,
   "id": "a644872d",
   "metadata": {},
   "outputs": [
    {
     "ename": "error",
     "evalue": "OpenCV(4.8.0) D:\\a\\opencv-python\\opencv-python\\opencv\\modules\\highgui\\src\\window.cpp:971: error: (-215:Assertion failed) size.width>0 && size.height>0 in function 'cv::imshow'\n",
     "output_type": "error",
     "traceback": [
      "\u001b[1;31m---------------------------------------------------------------------------\u001b[0m",
      "\u001b[1;31merror\u001b[0m                                     Traceback (most recent call last)",
      "Input \u001b[1;32mIn [3]\u001b[0m, in \u001b[0;36m<cell line: 3>\u001b[1;34m()\u001b[0m\n\u001b[0;32m      1\u001b[0m \u001b[38;5;66;03m# extract flower\u001b[39;00m\n\u001b[0;32m      2\u001b[0m img \u001b[38;5;241m=\u001b[39m cv\u001b[38;5;241m.\u001b[39mimread(\u001b[38;5;124m\"\u001b[39m\u001b[38;5;124mimages/flower.jfif\u001b[39m\u001b[38;5;124m\"\u001b[39m)\n\u001b[1;32m----> 3\u001b[0m \u001b[43mshow_img\u001b[49m\u001b[43m(\u001b[49m\u001b[38;5;124;43m\"\u001b[39;49m\u001b[38;5;124;43mflower\u001b[39;49m\u001b[38;5;124;43m\"\u001b[39;49m\u001b[43m,\u001b[49m\u001b[43mimg\u001b[49m\u001b[43m)\u001b[49m\n",
      "File \u001b[1;32m~\\UCCC2513_code\\util_func.py:10\u001b[0m, in \u001b[0;36mshow_img\u001b[1;34m(window_name, img, adjust)\u001b[0m\n\u001b[0;32m      7\u001b[0m \u001b[38;5;28;01melse\u001b[39;00m:\n\u001b[0;32m      8\u001b[0m     cv\u001b[38;5;241m.\u001b[39mnamedWindow(window_name)\n\u001b[1;32m---> 10\u001b[0m \u001b[43mcv\u001b[49m\u001b[38;5;241;43m.\u001b[39;49m\u001b[43mimshow\u001b[49m\u001b[43m(\u001b[49m\u001b[43mwindow_name\u001b[49m\u001b[43m,\u001b[49m\u001b[43m \u001b[49m\u001b[43mimg\u001b[49m\u001b[43m)\u001b[49m\n\u001b[0;32m     11\u001b[0m cv\u001b[38;5;241m.\u001b[39mwaitKey(\u001b[38;5;241m0\u001b[39m)\n\u001b[0;32m     12\u001b[0m cv\u001b[38;5;241m.\u001b[39mdestroyAllWindows()\n",
      "\u001b[1;31merror\u001b[0m: OpenCV(4.8.0) D:\\a\\opencv-python\\opencv-python\\opencv\\modules\\highgui\\src\\window.cpp:971: error: (-215:Assertion failed) size.width>0 && size.height>0 in function 'cv::imshow'\n"
     ]
    }
   ],
   "source": [
    "# extract flower\n",
    "img = cv.imread(\"images/flower.jfif\")\n",
    "show_img(\"flower\",img)"
   ]
  },
  {
   "cell_type": "code",
   "execution_count": 4,
   "id": "9e356438",
   "metadata": {},
   "outputs": [
    {
     "data": {
      "text/plain": [
       "['EVENT_FLAG_ALTKEY',\n",
       " 'EVENT_FLAG_CTRLKEY',\n",
       " 'EVENT_FLAG_LBUTTON',\n",
       " 'EVENT_FLAG_MBUTTON',\n",
       " 'EVENT_FLAG_RBUTTON',\n",
       " 'EVENT_FLAG_SHIFTKEY',\n",
       " 'EVENT_LBUTTONDBLCLK',\n",
       " 'EVENT_LBUTTONDOWN',\n",
       " 'EVENT_LBUTTONUP',\n",
       " 'EVENT_MBUTTONDBLCLK',\n",
       " 'EVENT_MBUTTONDOWN',\n",
       " 'EVENT_MBUTTONUP',\n",
       " 'EVENT_MOUSEHWHEEL',\n",
       " 'EVENT_MOUSEMOVE',\n",
       " 'EVENT_MOUSEWHEEL',\n",
       " 'EVENT_RBUTTONDBLCLK',\n",
       " 'EVENT_RBUTTONDOWN',\n",
       " 'EVENT_RBUTTONUP']"
      ]
     },
     "execution_count": 4,
     "metadata": {},
     "output_type": "execute_result"
    }
   ],
   "source": [
    "[i for i in dir(cv) if i.startswith(\"EVENT\")]"
   ]
  },
  {
   "cell_type": "code",
   "execution_count": null,
   "id": "93e75b2e",
   "metadata": {},
   "outputs": [],
   "source": [
    "#1 way collback function\n",
    "img = cv.imread(\"images/flower.jfif\")\n",
    "\n",
    "def rect_region(event,x,y,flags,params):\n",
    "    \"\"\"This is a mouclick callback function\"\"\"\n",
    "    if event == cv.EVENT_LBUTTONDOWN:\n",
    "        print((x,y))\n",
    "        cv.circle(img,(x,y),1,(0,0,255),-1)\n",
    "        cv.imshow(\"img\",img)\n",
    "cv.imshow(\"img\",img)\n",
    "cv.setMouseCallback(\"img\",rect_region)\n",
    "cv.waitKey(0)\n",
    "cv.destroyAllWindow()"
   ]
  },
  {
   "cell_type": "code",
   "execution_count": null,
   "id": "837ec1fc",
   "metadata": {},
   "outputs": [],
   "source": [
    "\n",
    "\n",
    "flower = img[39:122,93:175]\n",
    "\n",
    "show_img(\"flower\",flower)"
   ]
  },
  {
   "cell_type": "code",
   "execution_count": null,
   "id": "d967a681",
   "metadata": {},
   "outputs": [],
   "source": [
    "#2 Bounding box\n",
    "img = cv.imread(\"images/dog.jfif\")\n",
    "bbox = cv.selectROI(\"img\",img)\n",
    "\n",
    "#(x,y,w,h)\n",
    "dog = img[int(bbox[1]):int(bbox[1]+bbox[3]),\n",
    "            int(bbox[0]):int(bbox[0]+bbox[2])]\n",
    "show_img(\"dog\",dog)"
   ]
  },
  {
   "cell_type": "code",
   "execution_count": null,
   "id": "fddce9ab",
   "metadata": {},
   "outputs": [],
   "source": [
    "#3 point opp"
   ]
  },
  {
   "cell_type": "code",
   "execution_count": null,
   "id": "eaae4d89",
   "metadata": {},
   "outputs": [],
   "source": [
    "# geerate a repeating pattern\n",
    "img_arr = np.zeros((30,30),dtype=np.uint8)\n",
    "\n",
    "img_arr[:10,10:20]=255\n",
    "img_arr[10:20,:10]=255\n",
    "img_arr[10:20,20:]=255\n",
    "img_arr[20:,10:20]=255\n",
    "\n",
    "img  = np.tile(img_arr,(3,3))\n",
    "\n",
    "show_img(\"pattern\",img)"
   ]
  },
  {
   "cell_type": "markdown",
   "id": "4ad57b19",
   "metadata": {},
   "source": [
    "## Image cropping\n",
    "Why?\n",
    "- Remove unwanted objects from cropping\n",
    "- Rule of thirds. Seperate images into $3 \\times 3$ grids, and we place our camera in a way such that the object of interest is on the grid line or its intersection, the picture will look more appealing.\n",
    "- One of the data augmentation techniques"
   ]
  },
  {
   "cell_type": "code",
   "execution_count": null,
   "id": "fcb138f7",
   "metadata": {},
   "outputs": [],
   "source": [
    "img = cv.imread(\"images/dog.jfif\")\n",
    "img_copy = img.copy()\n",
    "\n",
    "#parameter definition\n",
    "h, w = img.shape[:2]\n",
    "n_vertical_grids =4\n",
    "n_horizontal_grids = 4\n",
    "\n",
    "# we need to get the number of (pixels) for column and row\n",
    "M =int(h/ n_vertical_grids)\n",
    "N =int(w/n_horizontal_grids)\n",
    "\n",
    "\n",
    "tiles =[]\n",
    "for y in range(0,h,M):# h is h-1\n",
    "    for x in range(0,w,N):\n",
    "        x1 = x+ N\n",
    "        y1 = y+M\n",
    "        \n",
    "        if x1 > w and y1 > h:\n",
    "            x1 = w-1\n",
    "            y1 = h-1\n",
    "            cv.rectangle(img_copy,(x,y),(x1,y1),(0,255,0),1)\n",
    "            tile=img[y:h,x:w]\n",
    "            tiles.append(tile)\n",
    "            \n",
    "        elif y1 > h:\n",
    "            y1 = h-1\n",
    "            cv.rectangle(img_copy,(x,y),(x1,y1),(0,255,0),1)\n",
    "            tile=img[y:h,x:x1]\n",
    "            tiles.append(tile)\n",
    "        elif x1 > w:\n",
    "            x1 = w-1\n",
    "            cv.rectangle(img_copy,(x,y),(x1,y1),(0,255,0),1)\n",
    "            tile=img[y:y1,x:w]\n",
    "            tiles.append(tile)\n",
    "        else:\n",
    "            cv.rectangle(img_copy,(x,y),(x1,y1),(0,255,0),1)\n",
    "            tile=img[y:h,x:w]\n",
    "            tiles.append(tile)\n",
    "show_img(\"crop\",img_copy)"
   ]
  },
  {
   "cell_type": "code",
   "execution_count": null,
   "id": "85db6aeb",
   "metadata": {},
   "outputs": [],
   "source": [
    "show_img(\"patch\",tiles[5])"
   ]
  },
  {
   "cell_type": "markdown",
   "id": "8ac15a4b",
   "metadata": {},
   "source": [
    "# Splitting and merging of color channels"
   ]
  },
  {
   "cell_type": "code",
   "execution_count": 3,
   "id": "595d16e4",
   "metadata": {},
   "outputs": [
    {
     "data": {
      "text/plain": [
       "True"
      ]
     },
     "execution_count": 3,
     "metadata": {},
     "output_type": "execute_result"
    }
   ],
   "source": [
    "img = cv.imread(\"images/lena.jfif\")\n",
    "\n",
    "b,g,r = cv.split(img)\n",
    "\n",
    "img_merge=cv.merge((b,g,r))\n",
    "\n",
    "np.array_equal(img,img_merge)"
   ]
  },
  {
   "cell_type": "code",
   "execution_count": 8,
   "id": "a0d746b5",
   "metadata": {},
   "outputs": [],
   "source": [
    "import matplotlib.pyplot as plt"
   ]
  },
  {
   "cell_type": "code",
   "execution_count": 11,
   "id": "ac27acb3",
   "metadata": {},
   "outputs": [
    {
     "data": {
      "text/plain": [
       "[Text(0.5, 1.0, 'red channel'), [], []]"
      ]
     },
     "execution_count": 11,
     "metadata": {},
     "output_type": "execute_result"
    },
    {
     "data": {
      "image/png": "[encoded data removed]",
      "text/plain": [
       "<Figure size 864x288 with 3 Axes>"
      ]
     },
     "metadata": {},
     "output_type": "display_data"
    }
   ],
   "source": [
    "fig,(ax1,ax2,ax3)=plt.subplots(1,3,figsize=(12,4),sharey=True) # 1 row 3 column\n",
    "fig.suptitle(\"Different color channels\")\n",
    "\n",
    "ax1.imshow(b, cmap=plt.cm.gray)\n",
    "ax1.set(title = \"blue channel\",xticks=[],yticks=[])\n",
    "ax2.imshow(b, cmap=plt.cm.gray)\n",
    "ax2.set(title = \"green channel\",xticks=[],yticks=[])\n",
    "ax3.imshow(b, cmap=plt.cm.gray)\n",
    "ax3.set(title = \"red channel\",xticks=[],yticks=[])\n",
    "\n",
    "plt.tight_layout()\n",
    "plt.show()"
   ]
  },
  {
   "cell_type": "markdown",
   "id": "2624c3e6",
   "metadata": {},
   "source": [
    "### Exercise"
   ]
  },
  {
   "cell_type": "code",
   "execution_count": null,
   "id": "16f353a3",
   "metadata": {},
   "outputs": [],
   "source": [
    "### Apply color filter\n",
    "img=cv.imread(\"images/dog.jfif\")\n",
    "\n",
    "colors = (\"blue\",\"green\",\"red\")\n",
    "\n",
    "channels = cv.split(img)\n",
    "\n",
    "imgs =[]\n",
    "for i,ch in enumerate(channels):\n",
    "    img_arr = np.zeros_like(img)\n",
    "    img_arr[:,:,1]= ch\n",
    "    img.append(img_arr)\n",
    "    \n",
    "for img , c in zip( imgs,colors):\n",
    "    cv.imshow(c,img)\n",
    "\n",
    "cv.waitKey(0)\n",
    "cv.destroyAllWindows()"
   ]
  },
  {
   "cell_type": "markdown",
   "id": "730fd9ca",
   "metadata": {},
   "source": [
    "## Point operaters (mathematical operations)\n",
    "f(x) =alphaf(x)+ beta\n",
    "- if alpha>1 then enhance image content\n",
    "- if beta > 0 then increase brigthness\n",
    "- 0< alpha <0 then decrease img content\n",
    "- beta <0 decrease brigthness\n",
    "- bold x is vector not scalar\n",
    "\n",
    "$$ f_(trans)(\\textbf(x)) = \\alpha f(\\textbf(x)+\\beta $$"
   ]
  },
  {
   "cell_type": "code",
   "execution_count": 2,
   "id": "0ee4e173",
   "metadata": {},
   "outputs": [
    {
     "data": {
      "text/plain": [
       "array([254,   0, 255,  44], dtype=uint8)"
      ]
     },
     "execution_count": 2,
     "metadata": {},
     "output_type": "execute_result"
    }
   ],
   "source": [
    "np.uint8(np.array([-2,0,255,300]))"
   ]
  },
  {
   "cell_type": "code",
   "execution_count": 2,
   "id": "53d5d49e",
   "metadata": {},
   "outputs": [],
   "source": [
    "def point_op(img,alpha,beta):\n",
    "    \"\"\"point operaters,arguments:\n",
    "    1. Source image\n",
    "    2. multiplier\n",
    "    3. constant\"\"\"\n",
    "\n",
    "    img = img.astype(float)\n",
    "    res = alpha *img +beta\n",
    "    res = np.clip(res,0,255)\n",
    "    return np.uint8(res)"
   ]
  },
  {
   "cell_type": "code",
   "execution_count": null,
   "id": "a70fa8b8",
   "metadata": {},
   "outputs": [],
   "source": [
    "# enhance brightness and contrast\n",
    "img=cv.imread(\"images/bridge.jfif\")\n",
    "\n",
    "transform=point_op(img,2,30)\n",
    "\n",
    "cv.imshow(\"original\",img)\n",
    "show_img(\"transform\",transform)"
   ]
  },
  {
   "cell_type": "code",
   "execution_count": null,
   "id": "98fb7d20",
   "metadata": {},
   "outputs": [],
   "source": [
    "#darken it\n",
    "transform2 = point_op(img,1,-80)\n",
    "\n",
    "cv.imshow(\"original\",img)\n",
    "show_img(\"transform2\",transform2)"
   ]
  },
  {
   "cell_type": "markdown",
   "id": "666c0cfe",
   "metadata": {},
   "source": [
    "## gamma correction\n",
    "- it will make it more realistic (camera)\n",
    "- purpose : brightness\n",
    "$$ O = (\\frac{I}{255}^(\\gamma) * 255$$"
   ]
  },
  {
   "cell_type": "code",
   "execution_count": null,
   "id": "37c50c4d",
   "metadata": {},
   "outputs": [],
   "source": [
    "gamma = 1/2.2\n",
    "\n",
    "lookUpTable = np.empty((1,256),dtype=np.uint8)\n",
    "for i in range(256):\n",
    "    lookUpTable[0,i]= np.clip(pow(i/255,gamma)*255,0,255)\n",
    "\n",
    "img = cv.imread(\"images/mountains_prop.jpy\")\n",
    "res = cv.LUT(img, lookUpTable)\n",
    "\n",
    "cv.nameWindow(\"original\",cv.WINDOW_NORMAL)\n",
    "cv.imshow(\"original\",img)\n",
    "show_img(\"gamma correction\",res,adjust=True)"
   ]
  },
  {
   "cell_type": "markdown",
   "id": "613d6d0d",
   "metadata": {},
   "source": [
    "## Image Blending (add 2 images tgt)\n",
    "get a sense of transparency\n",
    "\n",
    "$$ (\\textbf{x}) = \\alpha f(\\textbf{x}+(1- \\alpha)h(\\textbf{x}+\\beta)$$"
   ]
  },
  {
   "cell_type": "code",
   "execution_count": null,
   "id": "27e20850",
   "metadata": {},
   "outputs": [],
   "source": [
    "img = cv.imread(\"images/lena.jfif\")\n",
    "\n",
    "img2 = cv.imread(\"images/coins.jfif\")\n",
    "\n",
    "#resizze img2\n",
    "alpha = 0.8\n",
    "h,w = img.shape[:2]\n",
    "img2 = cv.resize(img2,(w,h))\n",
    "\n",
    "#blending\n",
    "res = cv.addWeighted(img,alpha,img2,1-alpha,0) #beta set as 0\n",
    "\n",
    "cv.imshow(\"img1\",img)\n",
    "cv.imshow(\"img2\",img2)\n",
    "show_img(\"blending\",res)"
   ]
  },
  {
   "cell_type": "code",
   "execution_count": null,
   "id": "25c38df0",
   "metadata": {},
   "outputs": [],
   "source": []
  },
  {
   "cell_type": "code",
   "execution_count": null,
   "id": "8a6d83d1",
   "metadata": {},
   "outputs": [],
   "source": []
  },
  {
   "cell_type": "code",
   "execution_count": null,
   "id": "19fa4e9e",
   "metadata": {},
   "outputs": [],
   "source": []
  }
 ],
 "metadata": {
  "kernelspec": {
   "display_name": "Python 3 (ipykernel)",
   "language": "python",
   "name": "python3"
  },
  "language_info": {
   "codemirror_mode": {
    "name": "ipython",
    "version": 3
   },
   "file_extension": ".py",
   "mimetype": "text/x-python",
   "name": "python",
   "nbconvert_exporter": "python",
   "pygments_lexer": "ipython3",
   "version": "3.9.12"
  }
 },
 "nbformat": 4,
 "nbformat_minor": 5
}
