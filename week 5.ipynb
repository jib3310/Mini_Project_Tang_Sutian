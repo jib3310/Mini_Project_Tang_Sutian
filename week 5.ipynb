{
 "cells": [
  {
   "cell_type": "code",
   "execution_count": 2,
   "id": "a203d280",
   "metadata": {},
   "outputs": [
    {
     "name": "stdout",
     "output_type": "stream",
     "text": [
      "Collecting imutils\n",
      "  Downloading imutils-0.5.4.tar.gz (17 kB)\n",
      "  Installing build dependencies: started\n",
      "  Installing build dependencies: finished with status 'done'\n",
      "  Getting requirements to build wheel: started\n",
      "  Getting requirements to build wheel: finished with status 'done'\n",
      "  Preparing metadata (pyproject.toml): started\n",
      "  Preparing metadata (pyproject.toml): finished with status 'done'\n",
      "Building wheels for collected packages: imutils\n",
      "  Building wheel for imutils (pyproject.toml): started\n",
      "  Building wheel for imutils (pyproject.toml): finished with status 'done'\n",
      "  Created wheel for imutils: filename=imutils-0.5.4-py3-none-any.whl size=25854 sha256=15ccec95fa78f07797d426127d79e61c2a22ebcde4977efa53430fa19d9cbb25\n",
      "  Stored in directory: c:\\users\\sutia\\appdata\\local\\pip\\cache\\wheels\\85\\cf\\3a\\e265e975a1e7c7e54eb3692d6aa4e2e7d6a3945d29da46f2d7\n",
      "Successfully built imutils\n",
      "Installing collected packages: imutils\n",
      "Successfully installed imutils-0.5.4\n",
      "Note: you may need to restart the kernel to use updated packages.\n"
     ]
    },
    {
     "name": "stderr",
     "output_type": "stream",
     "text": [
      "\n",
      "[notice] A new release of pip is available: 23.1.2 -> 23.2.1\n",
      "[notice] To update, run: C:\\Users\\sutia\\AppData\\Local\\Programs\\Python\\Python310\\python.exe -m pip install --upgrade pip\n"
     ]
    }
   ],
   "source": [
    "pip install imutils"
   ]
  },
  {
   "cell_type": "code",
   "execution_count": 2,
   "id": "27f4942d",
   "metadata": {},
   "outputs": [],
   "source": [
    "import numpy as np\n",
    "import cv2 as cv\n",
    "from util_func import *\n",
    "import sys\n",
    "import math\n",
    "import imutils"
   ]
  },
  {
   "cell_type": "code",
   "execution_count": 2,
   "id": "32184310",
   "metadata": {},
   "outputs": [],
   "source": [
    "#1\n",
    "\n",
    "img = cv.imread(\"images/lena.jfif\")\n",
    "\n",
    "\n",
    "# imutils\n",
    "rotated = imutils.rotate_bound(img, 45)\n",
    "show_img(\"rotated\", rotated)\n",
    "\n",
    "# trans mat\n",
    "h, w = img.shape[:2]\n",
    "xc = w // 2\n",
    "yc = h // 2\n",
    "\n",
    "M = cv.getRotationMatrix2D((xc, yc), 45, math.cos(45)) \n",
    "rotated = cv.warpAffine(img, M, (w ,h))\n",
    "\n",
    "show_img(\"rotated opencv\", rotated)\n",
    "\n"
   ]
  },
  {
   "cell_type": "code",
   "execution_count": 12,
   "id": "50c647b6",
   "metadata": {},
   "outputs": [],
   "source": [
    "#2\n",
    "flower = cv.imread(\"images/flower.jfif\")\n",
    "bees = cv.imread(\"images/native-bee.png\")\n",
    "\n",
    "cv.imshow(\"flowers\", flower)\n",
    "show_img(\"bees\", bees)\n",
    "\n",
    "# convert flower images into grayscale\n",
    "flower_gs = cv.cvtColor(flower, cv.COLOR_BGR2GRAY)\n",
    "# show_img(\"d\", flower_gs)\n",
    "\n",
    "#value >0 convert to 255\n",
    "threshold_img = cv.threshold(flower_gs,0, 255, cv.THRESH_BINARY)\n",
    "\n",
    "#take only tuple\n",
    "threshold_img = threshold_img[1]\n",
    "# show_img('dd',threshold_img)\n",
    "\n",
    "# mask 0 value 0,.., show only img that mask is 1\n",
    "segment = cv.bitwise_and(flower, flower, mask=threshold_img)\n",
    "# show_img('dde',segment)\n",
    "\n",
    "# blend image together\n",
    "h, w = flower.shape[:2]\n",
    "bees_seg = bees[0:h, 0:w]\n",
    "img = cv.addWeighted(bees_seg, 1.0, segment, 1.0, 1)\n",
    "# show_img('ff',img)\n",
    "\n",
    "# replace segment with blended images\n",
    "bees[0:h, 0:w] = img\n",
    "show_img(\"overlay\", bees)"
   ]
  },
  {
   "cell_type": "code",
   "execution_count": 3,
   "id": "f95717ed",
   "metadata": {},
   "outputs": [],
   "source": [
    "#3\n",
    "# 3x3 kernel\n",
    "kernel3 = np.array([[0, -1, 0], [-1, 5, -1], [0, -1, 0]])\n",
    "\n",
    "# 5x5 kernel\n",
    "kernel5 = np.ones((5, 5)) *-1\n",
    "kernel5[2, 2] = 25\n",
    "\n",
    "\n",
    "img = cv.imread(\"images/native-bee.png\")\n",
    "show_img(\"s\",img)\n"
   ]
  },
  {
   "cell_type": "code",
   "execution_count": 7,
   "id": "2348ddeb",
   "metadata": {},
   "outputs": [],
   "source": [
    "# apply 3x3 kernel to image\n",
    "dst = cv.filter2D(img, -1, kernel3)\n",
    "show_img(\"original\", img)\n",
    "show_img(\"kernel3\", dst)\n",
    "\n",
    "#img become sharp, edge sharp"
   ]
  },
  {
   "cell_type": "code",
   "execution_count": 8,
   "id": "6b3ccb8a",
   "metadata": {},
   "outputs": [],
   "source": [
    "# apply 5x5 kernel to the image\n",
    "dst5 = cv.filter2D(img, -1, kernel5)\n",
    "show_img(\"kernel5\", dst5)\n",
    "\n",
    "# img become blur due to oversharp"
   ]
  },
  {
   "cell_type": "code",
   "execution_count": 4,
   "id": "9a36286e",
   "metadata": {},
   "outputs": [],
   "source": [
    "#4\n",
    "\n",
    "img = cv.imread(\"images/noise_lena.jpg\")\n",
    " \n",
    "# Gaussian Blur\n",
    "gs = cv.GaussianBlur(img, (3, 3),0 , 0)\n",
    "cv.imshow(\"Gaussian blur\", gs)\n",
    "\n",
    "# median filter\n",
    "md = cv.medianBlur(img, 3)\n",
    "cv.imshow(\"median blur\", md)\n",
    "\n",
    "show_img(\"original\", img)\n",
    "\n",
    "# median filter have the smoother img than gaussian blur"
   ]
  },
  {
   "cell_type": "code",
   "execution_count": null,
   "id": "7ada9573",
   "metadata": {},
   "outputs": [],
   "source": []
  },
  {
   "cell_type": "code",
   "execution_count": null,
   "id": "e41fd04d",
   "metadata": {},
   "outputs": [],
   "source": []
  }
 ],
 "metadata": {
  "kernelspec": {
   "display_name": "Python 3 (ipykernel)",
   "language": "python",
   "name": "python3"
  },
  "language_info": {
   "codemirror_mode": {
    "name": "ipython",
    "version": 3
   },
   "file_extension": ".py",
   "mimetype": "text/x-python",
   "name": "python",
   "nbconvert_exporter": "python",
   "pygments_lexer": "ipython3",
   "version": "3.10.5"
  }
 },
 "nbformat": 4,
 "nbformat_minor": 5
}
