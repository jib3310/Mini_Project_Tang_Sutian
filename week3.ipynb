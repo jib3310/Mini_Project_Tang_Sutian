{
 "cells": [
  {
   "cell_type": "markdown",
   "metadata": {},
   "source": [
    "# Tutorial week 3"
   ]
  },
  {
   "cell_type": "markdown",
   "metadata": {},
   "source": [
    "## Leaning outcomes\n",
    "1.Read and save images\n",
    "2.Read and save videos.\n",
    "3.Resize images.\n",
    "\n",
    "## Intro of OpenCV in Python\n",
    "Setup procedure:\n",
    "\n",
    "1.Install Python and its IDE, preferably Jupyter notebook.\n",
    "2.Install OpenCV module by the following steps:\n",
    "- Open cmd terminal\n",
    "- Type in pip install opencv-contrib-python.\n",
    "\n",
    "Before we starts playing around with some of the OpenCV built-in functions, lets briefly walk through what is OpenCV. Created in 1999, OpenCV currently supports a lot of algorithms related to Computer Vision and Machine Learning. OpenCV supports a wide variety of programming languages like C++, Python and Java and is available on different platforms like Window, Linux and so on.\n",
    "\n",
    "OpenCV-Python is the Python API of OpenCV. OpenCV-Python is a Python wrapper around original C++ implementation. Another upside of using OpenCV-Python is that OpenCV array structures converted to and from Numpy arrays. So, whatever operations you can do in Numpy, you can combine it with OpenCV. All in all, OpenCV-Python is an appropriate tool for fast prototyping of computer vision problems.\n",
    "\n",
    "## Setup\n"
   ]
  },
  {
   "cell_type": "code",
   "execution_count": 3,
   "metadata": {},
   "outputs": [
    {
     "name": "stdout",
     "output_type": "stream",
     "text": [
      "Collecting opencv-contrib-pythonNote: you may need to restart the kernel to use updated packages.\n",
      "\n",
      "  Downloading opencv_contrib_python-4.8.0.74-cp37-abi3-win_amd64.whl (44.8 MB)\n",
      "     ---------------------------------------- 44.8/44.8 MB 8.0 MB/s eta 0:00:00\n",
      "Collecting numpy>=1.21.2\n",
      "  Downloading numpy-1.25.1-cp310-cp310-win_amd64.whl (15.0 MB)\n",
      "     ---------------------------------------- 15.0/15.0 MB 4.2 MB/s eta 0:00:00\n",
      "Installing collected packages: numpy, opencv-contrib-python\n",
      "Successfully installed numpy-1.25.1 opencv-contrib-python-4.8.0.74\n"
     ]
    },
    {
     "name": "stderr",
     "output_type": "stream",
     "text": [
      "WARNING: You are using pip version 22.0.4; however, version 23.1.2 is available.\n",
      "You should consider upgrading via the 'C:\\Users\\sutia\\AppData\\Local\\Programs\\Python\\Python310\\python.exe -m pip install --upgrade pip' command.\n"
     ]
    }
   ],
   "source": [
    "pip install opencv-contrib-python"
   ]
  },
  {
   "cell_type": "code",
   "execution_count": 3,
   "metadata": {},
   "outputs": [
    {
     "name": "stdout",
     "output_type": "stream",
     "text": [
      "Collecting matplotlib\n",
      "  Using cached matplotlib-3.7.2-cp310-cp310-win_amd64.whl (7.5 MB)\n",
      "Collecting contourpy>=1.0.1 (from matplotlib)\n",
      "  Using cached contourpy-1.1.0-cp310-cp310-win_amd64.whl (470 kB)\n",
      "Collecting cycler>=0.10 (from matplotlib)\n",
      "  Using cached cycler-0.11.0-py3-none-any.whl (6.4 kB)\n",
      "Collecting fonttools>=4.22.0 (from matplotlib)\n",
      "  Using cached fonttools-4.40.0-cp310-cp310-win_amd64.whl (1.9 MB)\n",
      "Collecting kiwisolver>=1.0.1 (from matplotlib)\n",
      "  Using cached kiwisolver-1.4.4-cp310-cp310-win_amd64.whl (55 kB)\n",
      "Requirement already satisfied: numpy>=1.20 in c:\\users\\sutia\\appdata\\local\\programs\\python\\python310\\lib\\site-packages (from matplotlib) (1.25.1)\n",
      "Requirement already satisfied: packaging>=20.0 in c:\\users\\sutia\\appdata\\local\\programs\\python\\python310\\lib\\site-packages (from matplotlib) (21.3)\n",
      "Requirement already satisfied: pillow>=6.2.0 in c:\\users\\sutia\\appdata\\local\\programs\\python\\python310\\lib\\site-packages (from matplotlib) (10.0.0)\n",
      "Requirement already satisfied: pyparsing<3.1,>=2.3.1 in c:\\users\\sutia\\appdata\\local\\programs\\python\\python310\\lib\\site-packages (from matplotlib) (3.0.9)\n",
      "Requirement already satisfied: python-dateutil>=2.7 in c:\\users\\sutia\\appdata\\local\\programs\\python\\python310\\lib\\site-packages (from matplotlib) (2.8.2)\n",
      "Requirement already satisfied: six>=1.5 in c:\\users\\sutia\\appdata\\local\\programs\\python\\python310\\lib\\site-packages (from python-dateutil>=2.7->matplotlib) (1.16.0)\n",
      "Installing collected packages: kiwisolver, fonttools, cycler, contourpy, matplotlib\n",
      "Successfully installed contourpy-1.1.0 cycler-0.11.0 fonttools-4.40.0 kiwisolver-1.4.4 matplotlib-3.7.2\n",
      "Note: you may need to restart the kernel to use updated packages.\n"
     ]
    }
   ],
   "source": [
    "pip install matplotlib"
   ]
  },
  {
   "cell_type": "code",
   "execution_count": 1,
   "metadata": {},
   "outputs": [],
   "source": [
    "import sys\n",
    "# Python 3.7 is required\n",
    "assert sys.version_info >= (3, 7)\n",
    "\n",
    "import cv2 as cv\n",
    "import numpy as np\n",
    "\n",
    "# Make sure that OpenCV optimization is enabled\n",
    "if not cv.useOptimized():\n",
    "    cv.setUseOptimized(True)\n",
    "    \n",
    "cv.useOptimized()\n",
    "\n",
    "import matplotlib.pyplot as plt"
   ]
  },
  {
   "cell_type": "markdown",
   "metadata": {},
   "source": [
    "## Different formats of images\n",
    "There are wide variety of image file types out there. We will discuss a few common image formats, including:\n",
    "\n",
    "1. TIFF(.tif)\n",
    "\n",
    "2. BMP(.bmp)\n",
    "\n",
    "3. GIF(.gif) # cv.imread cant handle, need extrenal module\n",
    "\n",
    "4. JPEG(.jpeg, .jpg, .jfif)\n",
    "\n",
    "5. PNG(.png)\n",
    "\n",
    "6. WebP(.webp)\n",
    "\n",
    "## Read an image\n",
    "Let's try to read all the images into the workspace. Before that, let's set our eye to imread() function:\n",
    "\n",
    "{python}\n",
    "cv.imread(filename, flag)\n",
    "It takes 2 arguments:\n",
    "\n",
    "- filename - image file name (Note: specify the whole path if the image is not in the working directory).\n",
    "flag - specify how image should be represented.\n",
    "   - cv.IMREAD_UNCHANGED or -1\n",
    "   - cv.IMREAD_GRAYSCALE or 0\n",
    "- cv.IMREAD_COLOR or 1 (default)\n",
    "More flag arguments for cv.imread(), please refer to the online documentation.\n",
    "\n",
    "## Display image\n",
    "You can display image using imshow() function:\n",
    "\n",
    "{python}\n",
    "cv.imshow(window_name, image)\n",
    "This function takes 2 arguments:\n",
    "\n",
    "- window_name - window name that will be displayed.\n",
    "- image - image (Numpy array)\n",
    "To display multiple images at once, you can call this function multiple times.\n",
    "\n",
    "The cv.imshow() function is designed to use alongside cv.waitKey() and cv.destroyAllWindows() or cv.destroyWindow() functions.\n",
    "\n",
    "cv.waitKey() function is a keyboard-binding function. It takes single argument, which is time (miliseconds). If the user press any key within this period, the program continues. If 0 is passed, the program waits indefinitely for a keystroke. You can set the function to detect a specific keystroke like Esc key and any alphabet. For ASCII code of keyboard, please refer to this link.\n",
    "\n",
    "cv.destroyAllWindows() destroys all windows we created."
   ]
  },
  {
   "cell_type": "code",
   "execution_count": 4,
   "metadata": {},
   "outputs": [],
   "source": [
    "img = cv.imread('images/lena.jfif')\n",
    "img_grayscale = cv.imread('images/lena.jfif', 0)\n",
    "\n",
    "cv.imshow(\"original\", img)\n",
    "cv.imshow('grayscale', img_grayscale)\n",
    "cv.waitKey(0)\n",
    "cv.destroyAllWindows()"
   ]
  },
  {
   "cell_type": "code",
   "execution_count": 5,
   "metadata": {},
   "outputs": [],
   "source": [
    "# TIFF\n",
    "img = cv.imread('images/lena.tif')\n",
    "cv.imshow('TIFF image', img)\n",
    "cv.waitKey(0)\n",
    "cv.destroyAllWindows()"
   ]
  },
  {
   "cell_type": "code",
   "execution_count": 8,
   "metadata": {},
   "outputs": [],
   "source": [
    "img = cv.imread('images/lena.png')\n",
    "cv.imshow('PNG image', img)\n",
    "cv.waitKey(0)\n",
    "cv.destroyAllWindows()"
   ]
  },
  {
   "cell_type": "markdown",
   "metadata": {},
   "source": [
    "## special for gif\n",
    "You will run into execution error if you use cv.imread on GIF file. The workaround is we need to load the gif to numpy.ndarray and change the channel orders. You can refer to this stackoverflow post for more info."
   ]
  },
  {
   "cell_type": "code",
   "execution_count": 2,
   "metadata": {},
   "outputs": [
    {
     "name": "stdout",
     "output_type": "stream",
     "text": [
      "Collecting imageio\n",
      "  Downloading imageio-2.31.1-py3-none-any.whl (313 kB)\n",
      "     -------------------------------------- 313.2/313.2 kB 4.8 MB/s eta 0:00:00\n",
      "Requirement already satisfied: numpy in c:\\users\\sutia\\appdata\\local\\programs\\python\\python310\\lib\\site-packages (from imageio) (1.25.1)\n",
      "Collecting pillow>=8.3.2 (from imageio)\n",
      "  Downloading Pillow-10.0.0-cp310-cp310-win_amd64.whl (2.5 MB)\n",
      "     ---------------------------------------- 2.5/2.5 MB 8.9 MB/s eta 0:00:00\n",
      "Installing collected packages: pillow, imageio\n",
      "Successfully installed imageio-2.31.1 pillow-10.0.0\n",
      "Note: you may need to restart the kernel to use updated packages.\n"
     ]
    }
   ],
   "source": [
    "pip install imageio"
   ]
  },
  {
   "cell_type": "code",
   "execution_count": 3,
   "metadata": {},
   "outputs": [],
   "source": [
    "import imageio"
   ]
  },
  {
   "cell_type": "code",
   "execution_count": 6,
   "metadata": {},
   "outputs": [],
   "source": [
    "gif = imageio.mimread('images/rotating_earth_large.gif')\n",
    "# Convert from RGB to BGR format\n",
    "imgs = [cv.cvtColor(img, cv.COLOR_RGB2BGR) for img in gif]\n",
    "cv.imshow('GIF image', imgs[0])\n",
    "cv.waitKey(0)\n",
    "cv.destroyAllWindows()"
   ]
  },
  {
   "cell_type": "markdown",
   "metadata": {},
   "source": [
    "## Save image\n",
    "The function is cv.imwrite():\n",
    "\n",
    "{python}\n",
    "cv.imwrite(filename, image)\n",
    "It takes 2 arguments:\n",
    "\n",
    "- filename - must include the image file extension, like .jpg, .png, and etc)\n",
    "- image - image (Numpy array)"
   ]
  },
  {
   "cell_type": "code",
   "execution_count": 9,
   "metadata": {},
   "outputs": [
    {
     "data": {
      "text/plain": [
       "True"
      ]
     },
     "execution_count": 9,
     "metadata": {},
     "output_type": "execute_result"
    }
   ],
   "source": [
    "cv.imwrite('lena_save.jpg', img)"
   ]
  },
  {
   "cell_type": "markdown",
   "metadata": {},
   "source": [
    "## Basic Video operations using OpenCV\n",
    "A video is nothing but a series of images knit together. These image are often called frames. So, what you need to do is loop over all the frames in sequences, and then process one frame at a time.\n",
    "\n",
    "### Read and display video from file\n",
    "Use cv.VideoCapture() class to invoke a VideoCapture object which is useful to read video file.\n",
    "\n",
    "{python}\n",
    "cv.VideoCapture(path, apiPreference)\n",
    "The function has 2 arguments:\n",
    "\n",
    "1. path - directory path to the video file. 0 for webcam capture.\n",
    "2. apiPreference - optional\n",
    "Furthermore, there are some methods related to VideoCapture object that are worth mentioning:\n",
    "\n",
    "- isOpened() method returns a boolean indicating whether a video file is opened successfully.\n",
    "- read() returns the video frame.\n",
    "- get() method retrive metadata associated with the video. It takes one argument (enumerator). get(3) --> width of frame, get(4) --> height of frame, get(5) --> frame rate. More info, please refer to this online documentation\n",
    "How to read image frames from the file? Create a loop and read one frame at a time from the video stream using read() method. It returns a tuple, where the first element is a boolean and the second argument is the video frame.\n",
    "\n",
    "### Save videos\n",
    "In order to save a video file, you first need to create a video writer object from cv.VideoWriter() class. Syntax for cv.VideoWriter():\n",
    "\n",
    "cv.VideoWriter(filename, fourcc, fps, framesize, isColor)\n",
    "It takes 5 arguments:\n",
    "\n",
    "- filename - file path name\n",
    "- fourcc - 4-character code of codec. Fourcc is a 32 bit (4 byte) ASCII Character code used to uniquely identifies video formats. Below are the video codecs which corresponds to .avi video.\n",
    "    -cv.VideoWriter_fourcc('M', 'J', 'P', 'G') for .avi video file\n",
    "    -cv.VideoWriter_fourcc(*'MP4V') for .mp4 file\n",
    "- fps: frame rate per second\n",
    "- framesize: (width, height) of frame\n",
    "- isColor: if not zero (default: True), the encoder will encode color frames.\n",
    "The associated method to save the video file is write(frame)."
   ]
  },
  {
   "cell_type": "code",
   "execution_count": 10,
   "metadata": {},
   "outputs": [],
   "source": [
    "# Create a VideoCapture object\n",
    "cap = cv.VideoCapture('videos/img_pexels.mp4')\n",
    "\n",
    "# Check if the object has been created successfully\n",
    "if not cap.isOpened():\n",
    "    raise Exception(\"No video detected\")\n",
    "    \n",
    "# Read the frames with loop\n",
    "while cap.isOpened():\n",
    "    ret, frame = cap.read()\n",
    "    \n",
    "    if not ret:\n",
    "        print(\"Can't receive frame\")\n",
    "        break\n",
    "        \n",
    "    cv.namedWindow(\"frame\", cv.WINDOW_NORMAL)\n",
    "    cv.imshow('frame', frame)\n",
    "    # Press Esc key to exit (27 is ASCII code for Esc). cv.waitKey() returns 32 bit integer values. You can find the ASCII table\n",
    "    # on this URL: https://theasciicode.com.ar/\n",
    "    if cv.waitKey(1) & 0xFF == 27:\n",
    "        break\n",
    "        \n",
    "cap.release()\n",
    "cv.destroyAllWindows()\n"
   ]
  },
  {
   "cell_type": "code",
   "execution_count": 11,
   "metadata": {},
   "outputs": [],
   "source": [
    "# Webcam\n",
    "cap = cv.VideoCapture(0)\n",
    "\n",
    "width = int(cap.get(3))\n",
    "height = int(cap.get(4))\n",
    "# define the codec and create VideoWriter object\n",
    "fourcc = cv.VideoWriter_fourcc('M', 'J', 'P', 'G')\n",
    "fps = 20\n",
    "out = cv.VideoWriter('videos/out.avi', fourcc, fps, (width, height))\n",
    "\n",
    "while cap.isOpened():\n",
    "    ret, frame = cap.read()\n",
    "    \n",
    "    if not ret:\n",
    "        print(\"Can't receive frame\")\n",
    "        break\n",
    "    # horizontal flip    \n",
    "    frame = cv.flip(frame, 1)\n",
    "    # write the flipped frame\n",
    "    out.write(frame)\n",
    "    \n",
    "    cv.imshow('frame', frame)\n",
    "    if cv.waitKey(1) & 0xFF == 27:\n",
    "        break\n",
    "        \n",
    "cap.release()\n",
    "out.release()\n",
    "cv.destroyAllWindows()"
   ]
  },
  {
   "cell_type": "markdown",
   "metadata": {},
   "source": [
    "## Image resizing\n",
    "To resize an image, scale it along each axis (height and width), considering the specified scale factors or set the desired height and width.\n",
    "\n",
    "When resizing an image:\n",
    "\n",
    "- It is important to be mindful of the original aspect ratio of the image.\n",
    "- Reducing the size of image requires resampling of pixels.\n",
    "- Enlarging requires reconstruction through interpolation. Common interpolation are available in OpenCV:\n",
    "    -INTER_NEAREST: nearest neighbor interpolation.\n",
    "    -INTER_LINEAR: bilinear interpolation.\n",
    "    -INTER_CUBIC: bicubic interpolation (generally slower). More info can be found in OpenCV online documentation\n",
    "The function for image resizing is cv.resize():\n",
    "\n",
    "cv.resize(src, dsize, fx, fy, interpolation)\n",
    "1. First argument is the input image.\n",
    "2. dsize: the desired output image dimension.\n",
    "3. fx: scale factor along horizontal axis (width).\n",
    "4. fy: scale factor along vertical axis (height).\n",
    "5. interpolation: option flags stated above.\n",
    "### Example 1: Specify specific output dimension"
   ]
  },
  {
   "cell_type": "code",
   "execution_count": 12,
   "metadata": {},
   "outputs": [],
   "source": [
    "img = cv.imread('images/soccer.jpg')\n",
    "\n",
    "cv.imshow('original', img)\n",
    "cv.waitKey(0)\n",
    "cv.destroyAllWindows()"
   ]
  },
  {
   "cell_type": "code",
   "execution_count": 13,
   "metadata": {},
   "outputs": [],
   "source": [
    "new_width = 300\n",
    "new_height = 450\n",
    "\n",
    "img_resize = cv.resize(img, (new_width, new_height), interpolation=cv.INTER_LINEAR)\n",
    "\n",
    "cv.imshow('downscale', img_resize)\n",
    "cv.waitKey(0)\n",
    "cv.destroyAllWindows()"
   ]
  },
  {
   "cell_type": "markdown",
   "metadata": {},
   "source": [
    "### Example 2: Resizing with a scaling factor\n",
    "The advantage of using scaling factor for resizing is that it keeps the aspect ratio intact and preserve the display quality."
   ]
  },
  {
   "cell_type": "code",
   "execution_count": 14,
   "metadata": {},
   "outputs": [],
   "source": [
    "img = cv.imread('images/lena.jfif')\n",
    "\n",
    "img_resize = cv.resize(img, None, fx=1.5, fy=1.5, interpolation=cv.INTER_LINEAR)\n",
    "\n",
    "cv.imshow('upscale', img_resize)\n",
    "cv.waitKey(0)\n",
    "cv.destroyAllWindows()"
   ]
  },
  {
   "cell_type": "markdown",
   "metadata": {},
   "source": [
    "## Exercise"
   ]
  },
  {
   "cell_type": "code",
   "execution_count": 4,
   "metadata": {},
   "outputs": [
    {
     "data": {
      "text/plain": [
       "True"
      ]
     },
     "execution_count": 4,
     "metadata": {},
     "output_type": "execute_result"
    }
   ],
   "source": [
    "#1. \n",
    "img = cv.imread('images/dog.jfif')\n",
    "cv.imwrite('dog.png',img)\n"
   ]
  },
  {
   "cell_type": "code",
   "execution_count": 2,
   "metadata": {},
   "outputs": [],
   "source": [
    "#2.\n",
    "#1method\n",
    "img = cv.imread('images/lena.jfif')\n",
    "grayscale = cv.cvtColor(img,cv.COLOR_BGR2GRAY)\n",
    "\n",
    "cv.imshow('ori',img)\n",
    "cv.imshow('grayscale',grayscale)\n",
    "cv.waitKey(0)\n",
    "cv.destroyAllWindows()"
   ]
  },
  {
   "cell_type": "code",
   "execution_count": 7,
   "metadata": {},
   "outputs": [
    {
     "data": {
      "image/png": "[encoded data removed]",
      "text/plain": [
       "<Figure size 432x288 with 2 Axes>"
      ]
     },
     "metadata": {
      "needs_background": "light"
     },
     "output_type": "display_data"
    }
   ],
   "source": [
    "#2method\n",
    "img_rgb = cv.cvtColor(img,cv.COLOR_BGR2RGB)\n",
    "\n",
    "plt.subplot(121)\n",
    "plt.imshow(img_rgb)\n",
    "plt.xticks([]),plt.yticks([])\n",
    "plt.subplot(122)\n",
    "plt.imshow(grayscale,cmap = plt.cm.gray)\n",
    "plt.suptitle('color and grayscale')\n",
    "plt.show()"
   ]
  },
  {
   "cell_type": "code",
   "execution_count": 15,
   "metadata": {},
   "outputs": [],
   "source": [
    "#3 method\n",
    "\n",
    "grayscale = cv.cvtColor(img,cv.COLOR_BGR2GRAY)\n",
    "grayscale = cv.cvtColor(grayscale,cv.COLOR_GRAY2BGR)\n",
    "\n",
    "\n",
    "img_combined = np.hstack((img,grayscale))\n",
    "\n",
    "cv.imshow('combined',img_combined)\n",
    "\n",
    "cv.waitKey(0)\n",
    "cv.destroyAllWindows()"
   ]
  },
  {
   "cell_type": "code",
   "execution_count": 16,
   "metadata": {},
   "outputs": [
    {
     "name": "stdout",
     "output_type": "stream",
     "text": [
      "1080 1920\n"
     ]
    }
   ],
   "source": [
    "#3.\n",
    "\n",
    "# Open the video file\n",
    "video_path = \"videos/img_pexels.mp4\"\n",
    "video = cv.VideoCapture(video_path)\n",
    "\n",
    "# Get the original video's frame rate, width, and height\n",
    "fps = video.get(cv.CAP_PROP_FPS)\n",
    "width = int(video.get(cv.CAP_PROP_FRAME_WIDTH))\n",
    "height = int(video.get(cv.CAP_PROP_FRAME_HEIGHT))\n",
    "\n",
    "print(width,height)\n",
    "\n",
    "# Create a VideoWriter object to save the resized video\n",
    "output_path = \"smaller_img_pexels.avi\"\n",
    "fourcc = cv.VideoWriter_fourcc(*\"XVID\")\n",
    "output_video = cv.VideoWriter(output_path, fourcc, fps, (small_width, small_height)) \n",
    "\n",
    "# Read and resize each frame of the video\n",
    "while True:\n",
    "    ret, frame = video.read()\n",
    "    if not ret:\n",
    "        break\n",
    "    \n",
    "    # Resize the frame to the smaller size\n",
    "    resized_frame = cv.resize(frame,None, fx = 0.5,fy = 0.5,interpolation = cv.INTER_LINEAR)\n",
    "#     print(resized_frame.shape)#(960,540)\n",
    "    # Display the resized frame\n",
    "    cv.namedWindow(\"Resized Video\", cv.WINDOW_NORMAL)\n",
    "#     cv.namedWindow(\"ori Video\", cv.WINDOW_NORMAL)\n",
    "    cv.imshow(\"Resized Video\", resized_frame)\n",
    "#     cv.imshow('ori Video',frame)\n",
    "    \n",
    "    # Write the resized frame to the output video file\n",
    "    output_video.write(resized_frame)\n",
    "    \n",
    "    if cv.waitKey(1) & 0xFF == 27:\n",
    "        break\n",
    "\n",
    "# Release the video capture and writer objects\n",
    "video.release()\n",
    "output_video.release()\n",
    "\n",
    "# Close the OpenCV windows\n",
    "cv.destroyAllWindows()"
   ]
  },
  {
   "cell_type": "code",
   "execution_count": 17,
   "metadata": {},
   "outputs": [
    {
     "name": "stdout",
     "output_type": "stream",
     "text": [
      "(168, 300, 3)\n"
     ]
    }
   ],
   "source": [
    "\n",
    "# Load the image\n",
    "img = cv.imread(\"images/dog.jfif\")\n",
    "\n",
    "print(img.shape)\n",
    "# Enlarge the image using linear interpolation,less jagged but blur\n",
    "linear_interpolation  = cv.resize(img, None, fx=1.5, fy=1.5, interpolation=cv.INTER_LINEAR)\n",
    "\n",
    "# Enlarge the image using cubic interpolation, less jagged n clear\n",
    "cubic_interpolation = cv.resize(img, None, fx=1.5, fy=1.5, interpolation=cv.INTER_CUBIC)\n",
    "\n",
    "# Enlarge the image using nearest neighbor interpolation ,jagged\n",
    "nearest_interpolation = cv.resize(img, None, fx=1.5, fy=1.5, interpolation=cv.INTER_NEAREST)\n",
    "\n",
    "cv.imshow('ori',img)\n",
    "cv.imshow('linear',linear_interpolation)\n",
    "cv.imshow('cubic',cubic_interpolation)\n",
    "cv.imshow('nearest',nearest_interpolation)\n",
    "\n",
    "cv.waitKey(0)\n",
    "cv.destroyAllWindows()"
   ]
  },
  {
   "cell_type": "code",
   "execution_count": null,
   "metadata": {},
   "outputs": [],
   "source": []
  }
 ],
 "metadata": {
  "kernelspec": {
   "display_name": "Python 3 (ipykernel)",
   "language": "python",
   "name": "python3"
  },
  "language_info": {
   "codemirror_mode": {
    "name": "ipython",
    "version": 3
   },
   "file_extension": ".py",
   "mimetype": "text/x-python",
   "name": "python",
   "nbconvert_exporter": "python",
   "pygments_lexer": "ipython3",
   "version": "3.10.5"
  }
 },
 "nbformat": 4,
 "nbformat_minor": 2
}
