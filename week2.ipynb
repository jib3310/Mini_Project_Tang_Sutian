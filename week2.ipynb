{
  "cells": [
    {
      "cell_type": "markdown",
      "metadata": {
        "colab_type": "text",
        "id": "view-in-github"
      },
      "source": [
        "<a href=\"https://colab.research.google.com/github/jib3310/Mini_Project_Tang_Sutian/blob/main/week2.ipynb\" target=\"_parent\"><img src=\"https://colab.research.google.com/assets/colab-badge.svg\" alt=\"Open In Colab\"/></a>"
      ]
    },
    {
      "cell_type": "code",
      "execution_count": 1,
      "metadata": {
        "colab": {
          "base_uri": "https://localhost:8080/"
        },
        "id": "HC_JRA7UBBCc",
        "outputId": "12c1bfc8-e898-4ffb-ee55-9e008f2828d4"
      },
      "outputs": [
        {
          "name": "stdout",
          "output_type": "stream",
          "text": [
            "Mounted at /content/gdrive\n"
          ]
        }
      ],
      "source": [
        "from google.colab import drive\n",
        "drive.mount('/content/gdrive')"
      ]
    },
    {
      "cell_type": "code",
      "execution_count": 2,
      "metadata": {
        "colab": {
          "base_uri": "https://localhost:8080/"
        },
        "id": "iHltA-FHBEMN",
        "outputId": "45b424a8-948c-4c6f-859e-9fb747e12157"
      },
      "outputs": [
        {
          "name": "stdout",
          "output_type": "stream",
          "text": [
            "/content/gdrive/MyDrive/mini_project\n"
          ]
        }
      ],
      "source": [
        "cd \"/content/gdrive/MyDrive/mini_project\""
      ]
    },
    {
      "cell_type": "code",
      "execution_count": 1,
      "metadata": {
        "colab": {
          "base_uri": "https://localhost:8080/"
        },
        "id": "Wpqf-xSlBcQv",
        "outputId": "879585b8-9ae3-4ae3-b430-a46fcbf28827"
      },
      "outputs": [
        {
          "name": "stdout",
          "output_type": "stream",
          "text": [
            "hello\n"
          ]
        }
      ],
      "source": [
        "print(\"hello\")"
      ]
    },
    {
      "cell_type": "markdown",
      "metadata": {
        "id": "h1X6OibAEWk9"
      },
      "source": [
        "#Learning outcomes\n",
        "1. python fund\n",
        "  \n",
        "\n",
        "*  basic syntax\n",
        "*  custom function\n",
        "*   data type\n",
        "*     data struct\n",
        "*   Numpy module\n",
        "\n",
        "2. create custom images\n",
        "\n",
        "\n",
        "\n",
        "\n",
        "\n",
        "\n",
        "\n",
        "\n",
        "\n",
        "  \n",
        "  -\n",
        "  -"
      ]
    },
    {
      "cell_type": "code",
      "execution_count": 2,
      "metadata": {
        "id": "TgjkN2VRE5ql"
      },
      "outputs": [],
      "source": [
        "def addTwoNumber(x,y):\n",
        "  return(x+y)"
      ]
    },
    {
      "cell_type": "code",
      "execution_count": 3,
      "metadata": {
        "colab": {
          "base_uri": "https://localhost:8080/"
        },
        "id": "TJPfx-TmFBNl",
        "outputId": "0383b166-c77b-4bbf-fac6-f25f4fb82771"
      },
      "outputs": [
        {
          "data": {
            "text/plain": [
              "5"
            ]
          },
          "execution_count": 3,
          "metadata": {},
          "output_type": "execute_result"
        }
      ],
      "source": [
        "addTwoNumber(2,3)"
      ]
    },
    {
      "cell_type": "code",
      "execution_count": 5,
      "metadata": {
        "id": "5wnL5reOE5ud"
      },
      "outputs": [],
      "source": [
        "def compareTwoNum(x,y):\n",
        "  if x > y:\n",
        "    print(f\"{x} is greater than {y} \")\n",
        "  elif x < y:\n",
        "    print(f\"{x} is smaller than {y} \")\n",
        "  else:\n",
        "    print(f\"{x} is equal than {y}\")"
      ]
    },
    {
      "cell_type": "code",
      "execution_count": 6,
      "metadata": {
        "colab": {
          "base_uri": "https://localhost:8080/"
        },
        "id": "zX9Xty9rFeG9",
        "outputId": "f5bef8f6-fe25-4679-c101-4261df054c6a"
      },
      "outputs": [
        {
          "name": "stdout",
          "output_type": "stream",
          "text": [
            "4 is smaller than 5 \n"
          ]
        }
      ],
      "source": [
        "compareTwoNum(4,5)"
      ]
    },
    {
      "cell_type": "markdown",
      "metadata": {
        "id": "w6RNVAohF3B-"
      },
      "source": [
        "#data types\n",
        "\n",
        "\n",
        "*   float\n",
        "\n",
        "*   int\n",
        "\n",
        "*   str\n",
        "*   boolean\n"
      ]
    },
    {
      "cell_type": "code",
      "execution_count": 7,
      "metadata": {
        "id": "8ZvPC-qVGIRk"
      },
      "outputs": [],
      "source": [
        "import math"
      ]
    },
    {
      "cell_type": "code",
      "execution_count": 8,
      "metadata": {
        "colab": {
          "base_uri": "https://localhost:8080/"
        },
        "id": "3HMFF0J2GKUX",
        "outputId": "e8544298-7618-421f-e3c1-9a63715957d1"
      },
      "outputs": [
        {
          "name": "stdout",
          "output_type": "stream",
          "text": [
            "<class 'float'>\n",
            "<class 'int'>\n",
            "<class 'str'>\n",
            "<class 'bool'>\n",
            "<class 'complex'>\n"
          ]
        }
      ],
      "source": [
        "x = math.pi\n",
        "y = 0\n",
        "z = \"heloo\"\n",
        "z1 = True\n",
        "z2 = 3j\n",
        "\n",
        "print(type(x))\n",
        "print(type(y))\n",
        "print(type(z))\n",
        "print(type(z1))\n",
        "print(type(z2))"
      ]
    },
    {
      "cell_type": "code",
      "execution_count": 9,
      "metadata": {
        "colab": {
          "base_uri": "https://localhost:8080/"
        },
        "id": "LedfIPn7GsOk",
        "outputId": "e778f769-dcf2-46d7-81be-7f8653ab92ae"
      },
      "outputs": [
        {
          "name": "stdout",
          "output_type": "stream",
          "text": [
            "2\n",
            "4.3\n"
          ]
        }
      ],
      "source": [
        "x = 8/3\n",
        "y = \"4.3\"\n",
        "print(int(x))\n",
        "print(\n",
        "    float(y)\n",
        ")"
      ]
    },
    {
      "cell_type": "code",
      "execution_count": null,
      "metadata": {
        "id": "43BkQhX7HQh7"
      },
      "outputs": [],
      "source": []
    },
    {
      "cell_type": "markdown",
      "metadata": {
        "id": "A9suZFwiHb3s"
      },
      "source": [
        "#data struct\n",
        "#list and tuple\n",
        "\n",
        "list can change\n",
        "tuple cant change"
      ]
    },
    {
      "cell_type": "code",
      "execution_count": 10,
      "metadata": {
        "colab": {
          "base_uri": "https://localhost:8080/"
        },
        "id": "mlitFumVHtJi",
        "outputId": "3902a1fa-c971-4bca-cc6d-820e58804b29"
      },
      "outputs": [
        {
          "data": {
            "text/plain": [
              "list"
            ]
          },
          "execution_count": 10,
          "metadata": {},
          "output_type": "execute_result"
        }
      ],
      "source": [
        "myList = [\"1\",\"2\",\"w\"]\n",
        "type(myList)"
      ]
    },
    {
      "cell_type": "code",
      "execution_count": 11,
      "metadata": {
        "colab": {
          "base_uri": "https://localhost:8080/"
        },
        "id": "kNHms2K2H1hj",
        "outputId": "2272d301-4fd4-464f-989e-8ec31c73f0d5"
      },
      "outputs": [
        {
          "data": {
            "text/plain": [
              "tuple"
            ]
          },
          "execution_count": 11,
          "metadata": {},
          "output_type": "execute_result"
        }
      ],
      "source": [
        "myTuple = (\"1\",\"2\",\"w\")\n",
        "type(myTuple)"
      ]
    },
    {
      "cell_type": "code",
      "execution_count": 12,
      "metadata": {
        "colab": {
          "base_uri": "https://localhost:8080/"
        },
        "id": "4XrlbHjOH7Hr",
        "outputId": "30f0aa3b-0c12-4e76-dbe3-ad78c6d45e75"
      },
      "outputs": [
        {
          "name": "stdout",
          "output_type": "stream",
          "text": [
            "[0, '2', 'w']\n"
          ]
        }
      ],
      "source": [
        "myList[0] = 0\n",
        "print(myList)"
      ]
    },
    {
      "cell_type": "code",
      "execution_count": 13,
      "metadata": {
        "colab": {
          "base_uri": "https://localhost:8080/"
        },
        "id": "jCaYq5rAITq7",
        "outputId": "eed19829-8c8f-4ab2-890d-f96a1e2079c8"
      },
      "outputs": [
        {
          "name": "stdout",
          "output_type": "stream",
          "text": [
            "Tuple cant change\n",
            "('1', '2', 'w')\n"
          ]
        }
      ],
      "source": [
        "try:\n",
        "  myTuple[0] = 0\n",
        "except:\n",
        "  print(\"Tuple cant change\")\n",
        "\n",
        "print(myTuple)"
      ]
    },
    {
      "cell_type": "markdown",
      "metadata": {
        "id": "FtjhKfY1Iobr"
      },
      "source": [
        "#Numpy module\n",
        "allow fast computation and manipulatin, faster than python list, localty of reference."
      ]
    },
    {
      "cell_type": "code",
      "execution_count": 14,
      "metadata": {
        "id": "EuRjuekxI1k-"
      },
      "outputs": [],
      "source": [
        "import numpy as np"
      ]
    },
    {
      "cell_type": "code",
      "execution_count": 15,
      "metadata": {
        "id": "aU8J2UgUI_Sr"
      },
      "outputs": [],
      "source": [
        "x = np.array([1,2,3,4,5])"
      ]
    },
    {
      "cell_type": "code",
      "execution_count": 16,
      "metadata": {
        "colab": {
          "base_uri": "https://localhost:8080/"
        },
        "id": "gQ1HNXaYJDZz",
        "outputId": "4fefa577-deeb-4a74-9a6c-4790e68ba90d"
      },
      "outputs": [
        {
          "data": {
            "text/plain": [
              "numpy.ndarray"
            ]
          },
          "execution_count": 16,
          "metadata": {},
          "output_type": "execute_result"
        }
      ],
      "source": [
        "type(x)"
      ]
    },
    {
      "cell_type": "markdown",
      "metadata": {
        "id": "coIVB-oCJIej"
      },
      "source": [
        "#index"
      ]
    },
    {
      "cell_type": "code",
      "execution_count": 17,
      "metadata": {
        "colab": {
          "base_uri": "https://localhost:8080/"
        },
        "id": "4_1RBLI3JJti",
        "outputId": "1897cc5c-85a6-422a-82c0-407a6ec662a0"
      },
      "outputs": [
        {
          "name": "stdout",
          "output_type": "stream",
          "text": [
            "3\n"
          ]
        }
      ],
      "source": [
        "print(x[2])"
      ]
    },
    {
      "cell_type": "code",
      "execution_count": 18,
      "metadata": {
        "colab": {
          "base_uri": "https://localhost:8080/"
        },
        "id": "cxMXVoA6JWiS",
        "outputId": "213c5583-3357-4d92-884d-0c66eb75a54c"
      },
      "outputs": [
        {
          "name": "stdout",
          "output_type": "stream",
          "text": [
            "3\n"
          ]
        }
      ],
      "source": [
        "print(x[-3])"
      ]
    },
    {
      "cell_type": "markdown",
      "metadata": {
        "id": "cv4PFJGjJeF7"
      },
      "source": [
        "#slicing"
      ]
    },
    {
      "cell_type": "code",
      "execution_count": 19,
      "metadata": {
        "colab": {
          "base_uri": "https://localhost:8080/"
        },
        "id": "PjcHovBIJcxq",
        "outputId": "03dd92e5-d447-4056-fa17-b1c338e70d82"
      },
      "outputs": [
        {
          "name": "stdout",
          "output_type": "stream",
          "text": [
            "[3 4]\n"
          ]
        }
      ],
      "source": [
        "print((x[2:4]))"
      ]
    },
    {
      "cell_type": "code",
      "execution_count": 20,
      "metadata": {
        "colab": {
          "base_uri": "https://localhost:8080/"
        },
        "id": "zXQ--4ZkJzJr",
        "outputId": "47358f30-e220-401b-c8ac-1fdd90fdc7b3"
      },
      "outputs": [
        {
          "name": "stdout",
          "output_type": "stream",
          "text": [
            "[5 4 3 2 1]\n"
          ]
        }
      ],
      "source": [
        "print(x[::-1])"
      ]
    },
    {
      "cell_type": "code",
      "execution_count": 21,
      "metadata": {
        "colab": {
          "base_uri": "https://localhost:8080/"
        },
        "id": "W6e9g_3VKJ9a",
        "outputId": "836db244-5129-48d7-f3c4-6c4b1c4b76aa"
      },
      "outputs": [
        {
          "name": "stdout",
          "output_type": "stream",
          "text": [
            "[1 3 5]\n"
          ]
        }
      ],
      "source": [
        "print(x[::2])"
      ]
    },
    {
      "cell_type": "code",
      "execution_count": 22,
      "metadata": {
        "colab": {
          "base_uri": "https://localhost:8080/"
        },
        "id": "N2ZVy0D9KUmS",
        "outputId": "e4855ffa-32bd-451b-8040-ee2b17626ae5"
      },
      "outputs": [
        {
          "name": "stdout",
          "output_type": "stream",
          "text": [
            "[1 2 3]\n"
          ]
        }
      ],
      "source": [
        "print(x[:3])\n",
        "#print(x[:-2])"
      ]
    },
    {
      "cell_type": "markdown",
      "metadata": {
        "id": "2FqL36OxKslU"
      },
      "source": [
        "#concatenation"
      ]
    },
    {
      "cell_type": "code",
      "execution_count": 23,
      "metadata": {
        "colab": {
          "base_uri": "https://localhost:8080/"
        },
        "id": "UmpwK05-KjQC",
        "outputId": "9b0670d9-0dd6-4cce-fe37-120660d013e8"
      },
      "outputs": [
        {
          "name": "stdout",
          "output_type": "stream",
          "text": [
            "[1 2 3 4 5 1 2 3 4 5]\n"
          ]
        }
      ],
      "source": [
        "y = np.array([1,2,3,4,5])\n",
        "z = np.concatenate((x,y))\n",
        "print(z)"
      ]
    },
    {
      "cell_type": "markdown",
      "metadata": {
        "id": "wTGkbVTELK6D"
      },
      "source": [
        "#attributes"
      ]
    },
    {
      "cell_type": "code",
      "execution_count": 24,
      "metadata": {
        "colab": {
          "base_uri": "https://localhost:8080/"
        },
        "id": "pTEmfJ5mLJwz",
        "outputId": "123ba5a5-4e00-4b24-cf22-3fff8481a307"
      },
      "outputs": [
        {
          "name": "stdout",
          "output_type": "stream",
          "text": [
            "the shape of z is (10,)\n"
          ]
        }
      ],
      "source": [
        "print(\"the shape of z is {}\".format(z.shape))"
      ]
    },
    {
      "cell_type": "markdown",
      "metadata": {
        "id": "DJSBKtJpOyri"
      },
      "source": [
        "#create custome image"
      ]
    },
    {
      "cell_type": "code",
      "execution_count": 25,
      "metadata": {
        "id": "z81bVoahO0gA"
      },
      "outputs": [],
      "source": [
        "import matplotlib.pyplot as plt"
      ]
    },
    {
      "cell_type": "code",
      "execution_count": 26,
      "metadata": {
        "colab": {
          "base_uri": "https://localhost:8080/",
          "height": 452
        },
        "id": "12WEoMk4O4Sx",
        "outputId": "781a3fe9-32ba-4d0c-dd60-b3ad99bfb770"
      },
      "outputs": [
        {
          "data": {
            "image/png": "[encoded data removed]",
            "text/plain": [
              "<Figure size 432x288 with 1 Axes>"
            ]
          },
          "metadata": {
            "needs_background": "light"
          },
          "output_type": "display_data"
        }
      ],
      "source": [
        "black = np.zeros((200,200),dtype=np.uint8)\n",
        "\n",
        "plt.imshow(black,cmap = plt.cm.gray)\n",
        "plt.title(\"custom black\")\n",
        "plt.show()\n"
      ]
    },
    {
      "cell_type": "code",
      "execution_count": 27,
      "metadata": {
        "colab": {
          "base_uri": "https://localhost:8080/",
          "height": 452
        },
        "id": "Ufw9Rq1kPR6h",
        "outputId": "7074ba78-350a-4801-c4ec-fd4e3b109762"
      },
      "outputs": [
        {
          "data": {
            "image/png": "[encoded data removed]",
            "text/plain": [
              "<Figure size 432x288 with 1 Axes>"
            ]
          },
          "metadata": {
            "needs_background": "light"
          },
          "output_type": "display_data"
        }
      ],
      "source": [
        "white = 255 * np.ones((200,200),dtype=np.uint8)\n",
        "\n",
        "plt.imshow(white,cmap = plt.cm.gray,vmin = 0, vmax = 256)\n",
        "plt.title(\"custom white\")\n",
        "plt.show()"
      ]
    },
    {
      "cell_type": "code",
      "execution_count": 28,
      "metadata": {
        "colab": {
          "base_uri": "https://localhost:8080/",
          "height": 452
        },
        "id": "Ysk4el4HPcYg",
        "outputId": "dbdbeffe-7dd3-4ccb-fdc3-4de777cebd7b"
      },
      "outputs": [
        {
          "data": {
            "image/png": "[encoded data removed]",
            "text/plain": [
              "<Figure size 432x288 with 1 Axes>"
            ]
          },
          "metadata": {
            "needs_background": "light"
          },
          "output_type": "display_data"
        }
      ],
      "source": [
        "random = np.random.randint(0,high = 256,size = (100,100,3) ,dtype=np.uint8)\n",
        "\n",
        "plt.imshow(random,cmap = plt.cm.gray,vmin = 0, vmax = 256)\n",
        "plt.title(\"random\")\n",
        "plt.show()"
      ]
    },
    {
      "cell_type": "code",
      "execution_count": 29,
      "metadata": {
        "id": "bWk3t0d5Qobf"
      },
      "outputs": [],
      "source": [
        "from prompt_toolkit.application.application import E\n",
        "##exercise 1\n",
        "def checkNum(x):\n",
        "  if x % 2 == 0:\n",
        "    if x == 0:\n",
        "      print(\"x is zero\")\n",
        "    else:\n",
        "      print(\"it is a even number\")\n",
        "  else:\n",
        "    print(\"it is a odd number\")\n"
      ]
    },
    {
      "cell_type": "code",
      "execution_count": 30,
      "metadata": {
        "colab": {
          "base_uri": "https://localhost:8080/"
        },
        "id": "QYWwrap6RQ5Y",
        "outputId": "695c2a94-e5c8-4820-e5ae-b2bf09f241c0"
      },
      "outputs": [
        {
          "name": "stdout",
          "output_type": "stream",
          "text": [
            "it is a even number\n",
            "it is a odd number\n",
            "x is zero\n"
          ]
        }
      ],
      "source": [
        "checkNum(4)\n",
        "checkNum(3)\n",
        "checkNum(0)"
      ]
    },
    {
      "cell_type": "code",
      "execution_count": 31,
      "metadata": {
        "colab": {
          "base_uri": "https://localhost:8080/"
        },
        "id": "7LZmSXRiRVTI",
        "outputId": "642cb9ab-3c7f-4479-f843-6507bd086413"
      },
      "outputs": [
        {
          "name": "stdout",
          "output_type": "stream",
          "text": [
            "[270 196 155 157 177  93 254 230 164 110  71 193 178 189 108 331 251 203\n",
            " 213 170 131 260 170  77 178 178 275 309 288 324 148 378 216 313 345  34\n",
            " 251 144 170 143 215 203 219 214  86 199 192 186 240 390 115 353 262 235\n",
            " 138 279 222 138  89 214 285 314 376 305 119 179 120 120 154 145  95 169\n",
            " 170 231 223 295 322 151 321 311  65 215 197 100  41  80 233 319 170  88\n",
            " 272 205 309 297 254 252 214 337 210 260  99 202 175 143 115 169 291 174\n",
            " 358 207 170  94 176  23 167  81 272 340 354 161 214 106 186 124 354 162\n",
            " 265 235 275 329 263  99  59 340 256  66 197 281  88 198 198 200 120 219\n",
            " 356 367 295 156 184 216 121 199 256  48 226 333 297 140 169 220 179 336\n",
            " 159 315 344 110 387 219 106 292 246 358 320 160 253 112  78 116 126 190\n",
            " 229 364 161 164 130 280 144 307 276 365 237 251  57  70 196 209 377 147\n",
            " 178 220]\n",
            "the time is  0.0015914440155029297\n"
          ]
        }
      ],
      "source": [
        "#exercise 2\n",
        "import time\n",
        "x = np.random.randint(0,200,(200,))\n",
        "y = np.random.randint(0,200,(200,))\n",
        "\n",
        "stnp = time.time()\n",
        "print(x+y)\n",
        "etnp = time.time()\n",
        "\n",
        "print(\"the time is \" ,etnp- stnp)\n"
      ]
    },
    {
      "cell_type": "code",
      "execution_count": 32,
      "metadata": {
        "colab": {
          "base_uri": "https://localhost:8080/"
        },
        "id": "vTiunIKmTKZL",
        "outputId": "82426b2c-0fdd-4382-f45e-d466f1efc183"
      },
      "outputs": [
        {
          "name": "stdout",
          "output_type": "stream",
          "text": [
            "[1, 2, 3, 4, 5, 6, 7, 8, 9, 10, 11, 12, 13, 14, 15, 16, 17, 18, 19, 20, 21, 22, 23, 24, 25, 26, 27, 28, 29, 30, 31, 32, 33, 34, 35, 36, 37, 38, 39, 40, 41, 42, 43, 44, 45, 46, 47, 48, 49, 50, 51, 52, 53, 54, 55, 56, 57, 58, 59, 60, 61, 62, 63, 64, 65, 66, 67, 68, 69, 70, 71, 72, 73, 74, 75, 76, 77, 78, 79, 80, 81, 82, 83, 84, 85, 86, 87, 88, 89, 90, 91, 92, 93, 94, 95, 96, 97, 98, 99, 100, 101, 102, 103, 104, 105, 106, 107, 108, 109, 110, 111, 112, 113, 114, 115, 116, 117, 118, 119, 120, 121, 122, 123, 124, 125, 126, 127, 128, 129, 130, 131, 132, 133, 134, 135, 136, 137, 138, 139, 140, 141, 142, 143, 144, 145, 146, 147, 148, 149, 150, 151, 152, 153, 154, 155, 156, 157, 158, 159, 160, 161, 162, 163, 164, 165, 166, 167, 168, 169, 170, 171, 172, 173, 174, 175, 176, 177, 178, 179, 180, 181, 182, 183, 184, 185, 186, 187, 188, 189, 190, 191, 192, 193, 194, 195, 196, 197, 198, 199, 1, 2, 3, 4, 5, 6, 7, 8, 9, 10, 11, 12, 13, 14, 15, 16, 17, 18, 19, 20, 21, 22, 23, 24, 25, 26, 27, 28, 29, 30, 31, 32, 33, 34, 35, 36, 37, 38, 39, 40, 41, 42, 43, 44, 45, 46, 47, 48, 49, 50, 51, 52, 53, 54, 55, 56, 57, 58, 59, 60, 61, 62, 63, 64, 65, 66, 67, 68, 69, 70, 71, 72, 73, 74, 75, 76, 77, 78, 79, 80, 81, 82, 83, 84, 85, 86, 87, 88, 89, 90, 91, 92, 93, 94, 95, 96, 97, 98, 99, 100, 101, 102, 103, 104, 105, 106, 107, 108, 109, 110, 111, 112, 113, 114, 115, 116, 117, 118, 119, 120, 121, 122, 123, 124, 125, 126, 127, 128, 129, 130, 131, 132, 133, 134, 135, 136, 137, 138, 139, 140, 141, 142, 143, 144, 145, 146, 147, 148, 149, 150, 151, 152, 153, 154, 155, 156, 157, 158, 159, 160, 161, 162, 163, 164, 165, 166, 167, 168, 169, 170, 171, 172, 173, 174, 175, 176, 177, 178, 179, 180, 181, 182, 183, 184, 185, 186, 187, 188, 189, 190, 191, 192, 193, 194, 195, 196, 197, 198, 199]\n",
            "the time is  0.0\n"
          ]
        }
      ],
      "source": [
        "a = list(range(1,200))\n",
        "b = list(range(1,200))\n",
        "\n",
        "stl = time.time()\n",
        "print(a+b)\n",
        "etl = time.time()\n",
        "\n",
        "print(\"the time is \" ,etl- stl)\n"
      ]
    },
    {
      "cell_type": "code",
      "execution_count": 33,
      "metadata": {
        "id": "dcJ1ASDtTa6K"
      },
      "outputs": [],
      "source": [
        "# answer execr2\n",
        "\n",
        "num = 1e6\n",
        "np_arr = np.arange(num)\n",
        "list_arr = list(range(int(num)))\n"
      ]
    },
    {
      "cell_type": "code",
      "execution_count": 34,
      "metadata": {
        "colab": {
          "base_uri": "https://localhost:8080/"
        },
        "id": "V57QULg6U2YW",
        "outputId": "66897451-ab68-42bb-d469-88fc935740ac"
      },
      "outputs": [
        {
          "name": "stdout",
          "output_type": "stream",
          "text": [
            "4.24 ms ± 768 µs per loop (mean ± std. dev. of 7 runs, 100 loops each)\n"
          ]
        }
      ],
      "source": [
        "%timeit res = 2*np_arr"
      ]
    },
    {
      "cell_type": "code",
      "execution_count": 35,
      "metadata": {
        "colab": {
          "base_uri": "https://localhost:8080/"
        },
        "id": "YJyYkrPSVCK2",
        "outputId": "446b1a89-f681-40c1-9aff-2114ad23147e"
      },
      "outputs": [
        {
          "name": "stdout",
          "output_type": "stream",
          "text": [
            "83.8 ms ± 9.02 ms per loop (mean ± std. dev. of 7 runs, 10 loops each)\n"
          ]
        }
      ],
      "source": [
        "%timeit res = [2 *i for i in list_arr]"
      ]
    },
    {
      "cell_type": "code",
      "execution_count": 36,
      "metadata": {
        "colab": {
          "base_uri": "https://localhost:8080/",
          "height": 452
        },
        "id": "LbhAWTU1EaCi",
        "outputId": "a80def08-c3fa-48ed-9ef2-8bb1bb6b7537"
      },
      "outputs": [
        {
          "data": {
            "image/png": "[encoded data removed]",
            "text/plain": [
              "<Figure size 432x288 with 1 Axes>"
            ]
          },
          "metadata": {
            "needs_background": "light"
          },
          "output_type": "display_data"
        }
      ],
      "source": [
        "white = np.zeros((200,200),dtype=np.uint8)\n",
        "\n",
        "radius = 25 #circle radius\n",
        "canva = (200,200) # black\n",
        "\n",
        "topBlack = np.zeros((75,200))\n",
        "botBlack = np.zeros((75,200))\n",
        "midWhite = np.ones((75,200))\n",
        "\n",
        "centerPoint = np.ones((1,1))\n",
        "\n",
        "\n",
        "for x in range (radius):\n",
        "  final = np.pad(centerPoint, pad_width=1, mode='constant', constant_values=1)\n",
        "  for y in range (75):\n",
        "    final = np.pad(centerPoint, pad_width=1, mode='constant', constant_values=0)\n",
        "\n",
        "\n",
        "\n",
        "\n",
        "plt.imshow(final,cmap = plt.cm.gray,vmin = 0, vmax = 1)\n",
        "\n",
        "plt.title(\"a white cricle in a black\")\n",
        "plt.show()"
      ]
    },
    {
      "cell_type": "markdown",
      "metadata": {
        "id": "dHDg0HVzhNg1"
      },
      "source": [
        "#Answer for exercise 3 and exercise 4"
      ]
    },
    {
      "cell_type": "code",
      "execution_count": 37,
      "metadata": {
        "colab": {
          "base_uri": "https://localhost:8080/"
        },
        "id": "29ip_6KgBt9x",
        "outputId": "89b09404-0c4e-4078-af8a-03e1b1b95c95"
      },
      "outputs": [
        {
          "name": "stdout",
          "output_type": "stream",
          "text": [
            "[0 1 2 3 4 5 6 7 8 9]\n",
            "[ 0  1  2  3 25 25 25  7  8  9]\n",
            "[-1 25 25]\n",
            "[ 0  1  2  3 -1 25 25  7  8  9]\n"
          ]
        }
      ],
      "source": [
        "##exercise 3\n",
        "\n",
        "my_arr = np.arange(10)\n",
        "print(my_arr)\n",
        "\n",
        "my_arr[4:7] = 25\n",
        "print(my_arr)\n",
        "\n",
        "arr_slice = my_arr[4:7]\n",
        "\n",
        "# Change the first element of arr_slice to -1\n",
        "arr_slice[0]= -1\n",
        "print(arr_slice)\n",
        "print(my_arr)"
      ]
    },
    {
      "cell_type": "code",
      "execution_count": 38,
      "metadata": {
        "colab": {
          "base_uri": "https://localhost:8080/"
        },
        "id": "GBqkXMwdDgiC",
        "outputId": "f285c1a4-760f-4ebf-c701-db2dbf5ce257"
      },
      "outputs": [
        {
          "name": "stdout",
          "output_type": "stream",
          "text": [
            "[0 1 2 3 4 5 6 7 8 9]\n",
            "[ 0  1  2  3 25 25 25  7  8  9]\n",
            "[-1 25 25]\n",
            "[ 0  1  2  3 25 25 25  7  8  9]\n"
          ]
        }
      ],
      "source": [
        "##answer exercise 3\n",
        "\n",
        "my_arr = np.arange(10)\n",
        "print(my_arr)\n",
        "\n",
        "my_arr[4:7] = 25\n",
        "print(my_arr)\n",
        "\n",
        "arr_slice = np.copy(my_arr[4:7]) ##use np.copy instead of =, it is a deep copy from np library\n",
        "\n",
        "# Change the first element of arr_slice to -1\n",
        "arr_slice[0]= -1\n",
        "print(arr_slice)\n",
        "print(my_arr)"
      ]
    },
    {
      "cell_type": "code",
      "execution_count": 39,
      "metadata": {
        "colab": {
          "base_uri": "https://localhost:8080/",
          "height": 406
        },
        "id": "vLI13rnTZLwv",
        "outputId": "a15f4dd0-caea-4784-cebf-4797d0eb5647"
      },
      "outputs": [
        {
          "data": {
            "image/png": "[encoded data removed]",
            "text/plain": [
              "<Figure size 432x288 with 1 Axes>"
            ]
          },
          "metadata": {
            "needs_background": "light"
          },
          "output_type": "display_data"
        }
      ],
      "source": [
        "##answer exercise 4\n",
        "\n",
        "imageX = 200\n",
        "imageY = 200\n",
        "\n",
        "image = np.zeros((imageX,imageY))\n",
        "\n",
        "centerX = imageX//2\n",
        "centerY = imageY//2\n",
        "\n",
        "radius = 50\n",
        "\n",
        "for x in range(imageX):\n",
        "  for y in range(imageY):\n",
        "    distances = np.sqrt((x - centerX)**2 + (y - centerY)**2)\n",
        "    # calculate distance between pixel and distance,\n",
        "    # if distance exceed radius, not consider as circle.\n",
        "\n",
        "    if distances < radius:\n",
        "      image[y ,x] = 1\n",
        "\n",
        "plt.imshow(image, cmap='gray')\n",
        "plt.axis('off')\n",
        "plt.show()\n"
      ]
    },
    {
      "cell_type": "code",
      "execution_count": null,
      "metadata": {},
      "outputs": [],
      "source": []
    },
    {
      "cell_type": "code",
      "execution_count": null,
      "metadata": {},
      "outputs": [],
      "source": []
    }
  ],
  "metadata": {
    "colab": {
      "authorship_tag": "ABX9TyPHk34N88wX5qcHm/r/s8GP",
      "include_colab_link": true,
      "provenance": []
    },
    "kernelspec": {
      "display_name": "Python 3",
      "name": "python3"
    },
    "language_info": {
      "codemirror_mode": {
        "name": "ipython",
        "version": 3
      },
      "file_extension": ".py",
      "mimetype": "text/x-python",
      "name": "python",
      "nbconvert_exporter": "python",
      "pygments_lexer": "ipython3",
      "version": "3.9.12"
    }
  },
  "nbformat": 4,
  "nbformat_minor": 0
}
