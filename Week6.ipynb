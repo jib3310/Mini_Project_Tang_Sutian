{
 "cells": [
  {
   "cell_type": "code",
   "execution_count": 1,
   "id": "5a087630",
   "metadata": {},
   "outputs": [],
   "source": [
    "import numpy as np\n",
    "import cv2 as cv\n",
    "from util_func import *"
   ]
  },
  {
   "cell_type": "code",
   "execution_count": 3,
   "id": "48be66bf",
   "metadata": {},
   "outputs": [],
   "source": [
    "img = cv.imread(\"images/boat.jpg\", 0)\n",
    "\n",
    "_, mask = cv.threshold(img, 0, 255, cv.THRESH_OTSU + cv.THRESH_BINARY_INV)\n",
    "\n",
    "contours, _ = cv.findContours(mask, cv.RETR_EXTERNAL, cv.CHAIN_APPROX_SIMPLE)\n",
    "\n",
    "for cnt in contours:\n",
    "    x, y, w, h = cv.boundingRect(cnt)\n",
    "    cv.rectangle(img, (x, y), (x + w, y + h), (255, 0, 0), 1)\n",
    "    \n",
    "show_img(\"boat\", img)"
   ]
  },
  {
   "cell_type": "code",
   "execution_count": 4,
   "id": "d24b156f",
   "metadata": {},
   "outputs": [
    {
     "ename": "error",
     "evalue": "OpenCV(4.8.0) D:\\a\\opencv-python\\opencv-python\\opencv\\modules\\imgproc\\src\\morph.dispatch.cpp:1163: error: (-215:Assertion failed) !_src.empty() in function 'cv::morphologyEx'\n",
     "output_type": "error",
     "traceback": [
      "\u001b[1;31m---------------------------------------------------------------------------\u001b[0m",
      "\u001b[1;31merror\u001b[0m                                     Traceback (most recent call last)",
      "Input \u001b[1;32mIn [4]\u001b[0m, in \u001b[0;36m<cell line: 13>\u001b[1;34m()\u001b[0m\n\u001b[0;32m     20\u001b[0m     height \u001b[38;5;241m=\u001b[39m \u001b[38;5;241m3\u001b[39m\n\u001b[0;32m     22\u001b[0m kernel \u001b[38;5;241m=\u001b[39m np\u001b[38;5;241m.\u001b[39mones((height, width), dtype\u001b[38;5;241m=\u001b[39mnp\u001b[38;5;241m.\u001b[39muint8)\n\u001b[1;32m---> 23\u001b[0m res \u001b[38;5;241m=\u001b[39m \u001b[43mcv\u001b[49m\u001b[38;5;241;43m.\u001b[39;49m\u001b[43mmorphologyEx\u001b[49m\u001b[43m(\u001b[49m\u001b[43mmask\u001b[49m\u001b[43m,\u001b[49m\u001b[43m \u001b[49m\u001b[43mcv\u001b[49m\u001b[38;5;241;43m.\u001b[39;49m\u001b[43mMORPH_CLOSE\u001b[49m\u001b[43m,\u001b[49m\u001b[43m \u001b[49m\u001b[43mkernel\u001b[49m\u001b[43m)\u001b[49m\n\u001b[0;32m     25\u001b[0m cv\u001b[38;5;241m.\u001b[39mimshow(wn, res)\n\u001b[0;32m     26\u001b[0m k \u001b[38;5;241m=\u001b[39m cv\u001b[38;5;241m.\u001b[39mwaitKey(\u001b[38;5;241m1\u001b[39m)\n",
      "\u001b[1;31merror\u001b[0m: OpenCV(4.8.0) D:\\a\\opencv-python\\opencv-python\\opencv\\modules\\imgproc\\src\\morph.dispatch.cpp:1163: error: (-215:Assertion failed) !_src.empty() in function 'cv::morphologyEx'\n"
     ]
    }
   ],
   "source": [
    "img = cv.imread(\"images/leaf.jfif\", 0)\n",
    "\n",
    "_, mask = cv.threshold(img, 0, 255, cv.THRESH_OTSU)\n",
    "\n",
    "def trackbar(x):\n",
    "    pass\n",
    "\n",
    "wn = \"window\"\n",
    "cv.namedWindow(wn)\n",
    "cv.createTrackbar(\"width\", wn, 3, 10, trackbar)\n",
    "cv.createTrackbar(\"height\", wn, 3, 10, trackbar)\n",
    "\n",
    "while True:\n",
    "    width = cv.getTrackbarPos(\"width\", wn)\n",
    "    if width < 3:\n",
    "        width = 3\n",
    "    \n",
    "    height = cv.getTrackbarPos(\"height\", wn)\n",
    "    if height < 3:\n",
    "        height = 3\n",
    "        \n",
    "    kernel = np.ones((height, width), dtype=np.uint8)\n",
    "    res = cv.morphologyEx(mask, cv.MORPH_CLOSE, kernel)\n",
    "    \n",
    "    cv.imshow(wn, res)\n",
    "    k = cv.waitKey(1)\n",
    "    if k == 27:\n",
    "        break\n",
    "        \n",
    "cv.destroyAllWindows()"
   ]
  },
  {
   "cell_type": "code",
   "execution_count": null,
   "id": "4de40dde",
   "metadata": {},
   "outputs": [],
   "source": []
  },
  {
   "cell_type": "code",
   "execution_count": null,
   "id": "535bfafc",
   "metadata": {},
   "outputs": [],
   "source": []
  }
 ],
 "metadata": {
  "kernelspec": {
   "display_name": "Python 3 (ipykernel)",
   "language": "python",
   "name": "python3"
  },
  "language_info": {
   "codemirror_mode": {
    "name": "ipython",
    "version": 3
   },
   "file_extension": ".py",
   "mimetype": "text/x-python",
   "name": "python",
   "nbconvert_exporter": "python",
   "pygments_lexer": "ipython3",
   "version": "3.10.5"
  }
 },
 "nbformat": 4,
 "nbformat_minor": 5
}
